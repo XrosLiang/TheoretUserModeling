{
  "nbformat": 4,
  "nbformat_minor": 0,
  "metadata": {
    "colab": {
      "name": "MF_hyperparameter_tuning.ipynb",
      "provenance": [],
      "collapsed_sections": [],
      "include_colab_link": true
    },
    "kernelspec": {
      "name": "python3",
      "display_name": "Python 3"
    },
    "accelerator": "GPU"
  },
  "cells": [
    {
      "cell_type": "markdown",
      "metadata": {
        "id": "view-in-github",
        "colab_type": "text"
      },
      "source": [
        "<a href=\"https://colab.research.google.com/github/samikhenissi/TheoretUserModeling/blob/master/MF_hyperparameter_tuning.ipynb\" target=\"_parent\"><img src=\"https://colab.research.google.com/assets/colab-badge.svg\" alt=\"Open In Colab\"/></a>"
      ]
    },
    {
      "cell_type": "markdown",
      "metadata": {
        "id": "dD5zCQXpaoFI",
        "colab_type": "text"
      },
      "source": [
        "# Matrix Factorization Hyperparameters Tuning using 5 folds cross validation on Movielens data "
      ]
    },
    {
      "cell_type": "code",
      "metadata": {
        "id": "0NeaFv2BegsD",
        "colab_type": "code",
        "colab": {
          "base_uri": "https://localhost:8080/",
          "height": 629
        },
        "outputId": "6a4c3e5a-51ed-4a2e-e2f1-8edb7eb28576"
      },
      "source": [
        "###Downloading the Data\n",
        "# Downloading movielens data in case of using Colab\n",
        "!wget http://files.grouplens.org/datasets/movielens/ml-100k.zip\n",
        "!unzip ml-100k.zip\n",
        "\n"
      ],
      "execution_count": null,
      "outputs": [
        {
          "output_type": "stream",
          "text": [
            "--2020-02-17 17:32:55--  http://files.grouplens.org/datasets/movielens/ml-100k.zip\n",
            "Resolving files.grouplens.org (files.grouplens.org)... 128.101.65.152\n",
            "Connecting to files.grouplens.org (files.grouplens.org)|128.101.65.152|:80... connected.\n",
            "HTTP request sent, awaiting response... 200 OK\n",
            "Length: 4924029 (4.7M) [application/zip]\n",
            "Saving to: ‘ml-100k.zip’\n",
            "\n",
            "ml-100k.zip         100%[===================>]   4.70M  12.1MB/s    in 0.4s    \n",
            "\n",
            "2020-02-17 17:32:55 (12.1 MB/s) - ‘ml-100k.zip’ saved [4924029/4924029]\n",
            "\n",
            "Archive:  ml-100k.zip\n",
            "   creating: ml-100k/\n",
            "  inflating: ml-100k/allbut.pl       \n",
            "  inflating: ml-100k/mku.sh          \n",
            "  inflating: ml-100k/README          \n",
            "  inflating: ml-100k/u.data          \n",
            "  inflating: ml-100k/u.genre         \n",
            "  inflating: ml-100k/u.info          \n",
            "  inflating: ml-100k/u.item          \n",
            "  inflating: ml-100k/u.occupation    \n",
            "  inflating: ml-100k/u.user          \n",
            "  inflating: ml-100k/u1.base         \n",
            "  inflating: ml-100k/u1.test         \n",
            "  inflating: ml-100k/u2.base         \n",
            "  inflating: ml-100k/u2.test         \n",
            "  inflating: ml-100k/u3.base         \n",
            "  inflating: ml-100k/u3.test         \n",
            "  inflating: ml-100k/u4.base         \n",
            "  inflating: ml-100k/u4.test         \n",
            "  inflating: ml-100k/u5.base         \n",
            "  inflating: ml-100k/u5.test         \n",
            "  inflating: ml-100k/ua.base         \n",
            "  inflating: ml-100k/ua.test         \n",
            "  inflating: ml-100k/ub.base         \n",
            "  inflating: ml-100k/ub.test         \n"
          ],
          "name": "stdout"
        }
      ]
    },
    {
      "cell_type": "code",
      "metadata": {
        "id": "-yx2a_JgceOO",
        "colab_type": "code",
        "colab": {
          "base_uri": "https://localhost:8080/",
          "height": 85
        },
        "outputId": "77e9cfd8-9058-4fdd-9d67-4df4a45b0822"
      },
      "source": [
        "#Numba\n",
        "!pip3 install numba"
      ],
      "execution_count": null,
      "outputs": [
        {
          "output_type": "stream",
          "text": [
            "Requirement already satisfied: numba in /usr/local/lib/python3.6/dist-packages (0.47.0)\n",
            "Requirement already satisfied: llvmlite>=0.31.0dev0 in /usr/local/lib/python3.6/dist-packages (from numba) (0.31.0)\n",
            "Requirement already satisfied: setuptools in /usr/local/lib/python3.6/dist-packages (from numba) (45.1.0)\n",
            "Requirement already satisfied: numpy in /usr/local/lib/python3.6/dist-packages (from numba) (1.17.5)\n"
          ],
          "name": "stdout"
        }
      ]
    },
    {
      "cell_type": "code",
      "metadata": {
        "id": "_JsbfoHdbInR",
        "colab_type": "code",
        "colab": {}
      },
      "source": [
        "## importing required modules:\n",
        "import numpy as np\n",
        "import pandas as pd\n",
        "import matplotlib.pyplot as plt\n",
        "from sklearn import metrics as m\n",
        "import random\n",
        "import math\n",
        "from operator import mul\n",
        "import numpy as np\n",
        "from numba import typeof, double, int_\n",
        "from numba.decorators import  jit\n"
      ],
      "execution_count": null,
      "outputs": []
    },
    {
      "cell_type": "code",
      "metadata": {
        "id": "zQCmMC4TbkoQ",
        "colab_type": "code",
        "colab": {}
      },
      "source": [
        "data = pd.read_csv(\"ml-100k/u.data\",sep='\\t',names=\"UserId,movieID,Rating,Timestamp\".split(\",\"))\n"
      ],
      "execution_count": null,
      "outputs": []
    },
    {
      "cell_type": "code",
      "metadata": {
        "id": "-CnlJKdgbshH",
        "colab_type": "code",
        "colab": {
          "base_uri": "https://localhost:8080/",
          "height": 204
        },
        "outputId": "04dad02a-eea9-4bd4-b52f-80b6748c6360"
      },
      "source": [
        "data.head()"
      ],
      "execution_count": null,
      "outputs": [
        {
          "output_type": "execute_result",
          "data": {
            "text/html": [
              "<div>\n",
              "<style scoped>\n",
              "    .dataframe tbody tr th:only-of-type {\n",
              "        vertical-align: middle;\n",
              "    }\n",
              "\n",
              "    .dataframe tbody tr th {\n",
              "        vertical-align: top;\n",
              "    }\n",
              "\n",
              "    .dataframe thead th {\n",
              "        text-align: right;\n",
              "    }\n",
              "</style>\n",
              "<table border=\"1\" class=\"dataframe\">\n",
              "  <thead>\n",
              "    <tr style=\"text-align: right;\">\n",
              "      <th></th>\n",
              "      <th>UserId</th>\n",
              "      <th>movieID</th>\n",
              "      <th>Rating</th>\n",
              "      <th>Timestamp</th>\n",
              "    </tr>\n",
              "  </thead>\n",
              "  <tbody>\n",
              "    <tr>\n",
              "      <th>0</th>\n",
              "      <td>196</td>\n",
              "      <td>242</td>\n",
              "      <td>3</td>\n",
              "      <td>881250949</td>\n",
              "    </tr>\n",
              "    <tr>\n",
              "      <th>1</th>\n",
              "      <td>186</td>\n",
              "      <td>302</td>\n",
              "      <td>3</td>\n",
              "      <td>891717742</td>\n",
              "    </tr>\n",
              "    <tr>\n",
              "      <th>2</th>\n",
              "      <td>22</td>\n",
              "      <td>377</td>\n",
              "      <td>1</td>\n",
              "      <td>878887116</td>\n",
              "    </tr>\n",
              "    <tr>\n",
              "      <th>3</th>\n",
              "      <td>244</td>\n",
              "      <td>51</td>\n",
              "      <td>2</td>\n",
              "      <td>880606923</td>\n",
              "    </tr>\n",
              "    <tr>\n",
              "      <th>4</th>\n",
              "      <td>166</td>\n",
              "      <td>346</td>\n",
              "      <td>1</td>\n",
              "      <td>886397596</td>\n",
              "    </tr>\n",
              "  </tbody>\n",
              "</table>\n",
              "</div>"
            ],
            "text/plain": [
              "   UserId  movieID  Rating  Timestamp\n",
              "0     196      242       3  881250949\n",
              "1     186      302       3  891717742\n",
              "2      22      377       1  878887116\n",
              "3     244       51       2  880606923\n",
              "4     166      346       1  886397596"
            ]
          },
          "metadata": {
            "tags": []
          },
          "execution_count": 7
        }
      ]
    },
    {
      "cell_type": "code",
      "metadata": {
        "id": "Mv2CT4zqb5eg",
        "colab_type": "code",
        "colab": {}
      },
      "source": [
        "n_users = data.UserId.unique().shape[0]\n",
        "n_items = data.movieID.unique().shape[0]\n"
      ],
      "execution_count": null,
      "outputs": []
    },
    {
      "cell_type": "code",
      "metadata": {
        "id": "tcaldqqIcJyA",
        "colab_type": "code",
        "colab": {}
      },
      "source": [
        "#Matrix Factorization\n",
        "\n",
        "@jit(locals={'step': int_, 'e': double, 'err': double})\n",
        "def matrix_factorization(R,K, nsteps, alpha, beta ): #this funcion train the MF model Using gradient decent \n",
        "  # Input:\n",
        "  # R: matrix that has the ratings used in training \n",
        "  # K: Dimension of the latent space\n",
        "  # nsteps = iterations\n",
        "  # alpha: learning rate\n",
        "  # beta: regularization parameter\n",
        "  \n",
        "  #Output:\n",
        "  # P: latent representation of the users\n",
        "  # Q: latent representation of the items\n",
        " \n",
        "  P = np.random.rand(len(R),K)\n",
        "  Q = np.random.rand(len(R[0]),K)\n",
        "  Q = Q.T\n",
        "  steps = nsteps\n",
        "  N,M = R.shape\n",
        "  for step in range(steps):\n",
        "      #W = calc_B(P,Q.T,R)\n",
        "      for i in range(N):\n",
        "          for j in range(M):\n",
        "              if R[i][j] > 0:\n",
        "                  eij = R[i][j] - np.dot(P[i,:],Q[:,j])\n",
        "                  for k in range(K):\n",
        "                      P[i][k] = P[i][k] + alpha * (2 * eij * Q[k][j] - beta * P[i][k])\n",
        "                      Q[k][j] = Q[k][j] + alpha * (2 * eij * P[i][k] - beta * Q[k][j] )\n",
        "  return P, Q.T"
      ],
      "execution_count": null,
      "outputs": []
    },
    {
      "cell_type": "code",
      "metadata": {
        "id": "4nj7BlpFc1Qf",
        "colab_type": "code",
        "colab": {}
      },
      "source": [
        "@jit(locals={'step': int_, 'e': double, 'err': double})\n",
        "def calculate_training_error(train_data_matrix,P,Q,beta):\n",
        "  # Input: \n",
        "  # train_data_matrix: matrix that has the ratings used in training\n",
        "  # P: Latent feature representation of the users\n",
        "  # Q: Latent feature representation of the items\n",
        "  # alpha: learning rate\n",
        "  # beta: regularization parameter\n",
        "  \n",
        "  #Output:\n",
        "  # RMSE trainging error\n",
        "  \n",
        "  e = 0\n",
        "  count = 0\n",
        "  N,M = train_data_matrix.shape\n",
        "  for i in range(N):\n",
        "      for j in range(M):\n",
        "          if train_data_matrix[i][j] > 0:\n",
        "              count = count + 1\n",
        "              e = e + pow(train_data_matrix[i][j] - np.dot(P[i,:],Q.T[:,j]), 2)\n",
        "              for k in range(K):\n",
        "                  e = e + (beta/2) * (pow(P[i][k],2) + pow(Q.T[k][j],2)) \n",
        "  return math.sqrt(e/count)"
      ],
      "execution_count": null,
      "outputs": []
    },
    {
      "cell_type": "code",
      "metadata": {
        "id": "u3xhTS-Cc39z",
        "colab_type": "code",
        "colab": {}
      },
      "source": [
        "@jit(locals={'step': int_, 'e': double, 'err': double})\n",
        "def calculate_testing_error(P,Q,test_data_matrix):\n",
        "  # Input:\n",
        "  # P: Latent feature representation of the users\n",
        "  # Q: Latent feature representation of the items\n",
        "  # test_data_matrix: matrix that has the ratings used for testing\n",
        "  \n",
        "  # Output\n",
        "  # Mean Absolute Error score for the testing set\n",
        "    \n",
        "  e_test = 0\n",
        "  num = 0\n",
        "  eR = np.dot(P,Q.T)\n",
        "  for i in range(len(test_data_matrix)):\n",
        "      for j in range(len(test_data_matrix[0])):\n",
        "          if test_data_matrix[i][j] !=0 :\n",
        "              e_test = np.copy(e_test + np.abs(eR[i][j] - test_data_matrix[i][j]))\n",
        "              num = num+1\n",
        "  e_test = e_test / num \n",
        "  return e_test"
      ],
      "execution_count": null,
      "outputs": []
    },
    {
      "cell_type": "markdown",
      "metadata": {
        "id": "rK8K9uxyJtLb",
        "colab_type": "text"
      },
      "source": [
        "# Cross Validation function"
      ]
    },
    {
      "cell_type": "code",
      "metadata": {
        "id": "OtQ32KH8keD4",
        "colab_type": "code",
        "colab": {}
      },
      "source": [
        "from sklearn.model_selection import StratifiedKFold\n",
        "\n",
        "\n",
        "def cross_val_MF(data,K,alpha,beta,steps,folds =5):\n",
        "  # Inputs\n",
        "  # data: dataframe that has the user id, movie id, rating\n",
        "  # K: dimension of latent space\n",
        "  # alpha: learning rate\n",
        "  # beta: regularization parameter\n",
        "  # steps: number of iterations\n",
        "  # folds: number of K-fold to perform\n",
        "  \n",
        "  #Outputs\n",
        "  # Average of all the training scores from a 5 steps cross validation\n",
        "  # Average of all the testing scores from a 5 steps cross validation\n",
        "  # list of training scores\n",
        "  # list of testing (validation) scores\n",
        "  \n",
        "  \n",
        "  kfold = StratifiedKFold(n_splits = folds, shuffle = True,  random_state = 1)\n",
        "  n_splits = 0\n",
        "  train_score = 0\n",
        "  validation_score = 0\n",
        "  train_scores = []\n",
        "  test_scores = []\n",
        "  for train, test in kfold.split(data,y= data['Rating']): # for each split \n",
        "    train_data, test_data = data.iloc[train], data.iloc[test]\n",
        "    train_data_matrix = np.zeros((n_users, n_items))\n",
        "    \n",
        "    #create the training and testing matrix\n",
        "    for line in train_data.itertuples():      \n",
        "      train_data_matrix[line[1]-1, line[2]-1] = line[3]\n",
        "      \n",
        "    test_data_matrix = np.zeros((n_users, n_items))\n",
        "    for line in test_data.itertuples():\n",
        "        test_data_matrix[line[1]-1, line[2]-1] = line[3]\n",
        "\n",
        "    #train the model and get P and Q    \n",
        "    P,Q = matrix_factorization(train_data_matrix,K,nsteps=steps,alpha = alpha, beta = beta)\n",
        "    \n",
        "    #calculate training error\n",
        "    e = calculate_training_error(train_data_matrix,P,Q,beta)\n",
        "    train_score = train_score + e\n",
        "    \n",
        "    #calculate testing error\n",
        "    e_test = calculate_testing_error(P,Q,test_data_matrix)\n",
        "    validation_score = validation_score + e_test\n",
        "    \n",
        "    \n",
        "    n_splits = n_splits + 1\n",
        "    print(\"training error \",e, \"test error \",e_test)\n",
        "    train_scores = train_scores + [e]\n",
        "    test_scores = test_scores + [e_test]\n",
        "    \n",
        "  print(\"###############################\")  \n",
        "  print(\"Final training error \",train_score/n_splits, \"Final test error \",validation_score/n_splits)  \n",
        "  return train_score/n_splits,validation_score/n_splits,train_scores,test_scores"
      ],
      "execution_count": null,
      "outputs": []
    },
    {
      "cell_type": "markdown",
      "metadata": {
        "id": "R4u2nBRjJp3q",
        "colab_type": "text"
      },
      "source": [
        "# List of Hyperparameters"
      ]
    },
    {
      "cell_type": "code",
      "metadata": {
        "id": "EuSta45nmXE8",
        "colab_type": "code",
        "colab": {}
      },
      "source": [
        "K_list= [5,10,15,30,50,100]\n",
        "alpha_list = [0.005,0.001,0.0001,0.00001]\n",
        "beta_list = [0.01,0.001,0.0001,0]\n",
        "steps_list = [150,300,500,1000]"
      ],
      "execution_count": null,
      "outputs": []
    },
    {
      "cell_type": "markdown",
      "metadata": {
        "id": "RJbYREqq2qcJ",
        "colab_type": "text"
      },
      "source": [
        "#Tuning K (Latent space dimension)"
      ]
    },
    {
      "cell_type": "code",
      "metadata": {
        "id": "t98g1iSgs2_h",
        "colab_type": "code",
        "colab": {}
      },
      "source": [
        "### we set values for alpha, beta and steps\n",
        "\n",
        "alpha = 0.001\n",
        "beta = 0.01\n",
        "steps = 300"
      ],
      "execution_count": null,
      "outputs": []
    },
    {
      "cell_type": "code",
      "metadata": {
        "id": "xCuDof_T3ZL8",
        "colab_type": "code",
        "colab": {
          "base_uri": "https://localhost:8080/",
          "height": 1000
        },
        "outputId": "b143d20e-9aad-41e5-b2e2-2b7dc32cf8ea"
      },
      "source": [
        "train_score = []\n",
        "val_score = []\n",
        "for K in K_list:\n",
        "  print(\"*********************\")\n",
        "  print(\"For K = \",K)\n",
        "  print(\"*********************\")\n",
        "  train_error,val_error,_,_ = cross_val_MF(data,K,alpha,beta,steps)\n",
        "  train_score = train_score + [train_error]\n",
        "  val_score = val_score + [val_error]"
      ],
      "execution_count": null,
      "outputs": [
        {
          "output_type": "stream",
          "text": [
            "*********************\n",
            "For K =  5\n",
            "*********************\n"
          ],
          "name": "stdout"
        },
        {
          "output_type": "stream",
          "text": [
            "<ipython-input-12-7a7ee7cff15f>:1: NumbaWarning: \n",
            "Compilation is falling back to object mode WITH looplifting enabled because Function \"calculate_testing_error\" failed type inference due to: Invalid use of Function(<function copy at 0x7ff4bb5012f0>) with argument(s) of type(s): (float64)\n",
            " * parameterized\n",
            "In definition 0:\n",
            "    All templates rejected with literals.\n",
            "In definition 1:\n",
            "    All templates rejected without literals.\n",
            "This error is usually caused by passing an argument of a type that is unsupported by the named function.\n",
            "[1] During: resolving callee type: Function(<function copy at 0x7ff4bb5012f0>)\n",
            "[2] During: typing of call at <ipython-input-12-7a7ee7cff15f> (17)\n",
            "\n",
            "\n",
            "File \"<ipython-input-12-7a7ee7cff15f>\", line 17:\n",
            "def calculate_testing_error(P,Q,test_data_matrix):\n",
            "    <source elided>\n",
            "          if test_data_matrix[i][j] !=0 :\n",
            "              e_test = np.copy(e_test + np.abs(eR[i][j] - test_data_matrix[i][j]))\n",
            "              ^\n",
            "\n",
            "  @jit(locals={'step': int_, 'e': double, 'err': double})\n",
            "<ipython-input-12-7a7ee7cff15f>:1: NumbaWarning: \n",
            "Compilation is falling back to object mode WITHOUT looplifting enabled because Function \"calculate_testing_error\" failed type inference due to: cannot determine Numba type of <class 'numba.dispatcher.LiftedLoop'>\n",
            "\n",
            "File \"<ipython-input-12-7a7ee7cff15f>\", line 14:\n",
            "def calculate_testing_error(P,Q,test_data_matrix):\n",
            "    <source elided>\n",
            "  eR = np.dot(P,Q.T)\n",
            "  for i in range(len(test_data_matrix)):\n",
            "  ^\n",
            "\n",
            "  @jit(locals={'step': int_, 'e': double, 'err': double})\n",
            "/usr/local/lib/python3.6/dist-packages/numba/object_mode_passes.py:178: NumbaWarning: Function \"calculate_testing_error\" was compiled in object mode without forceobj=True, but has lifted loops.\n",
            "\n",
            "File \"<ipython-input-12-7a7ee7cff15f>\", line 11:\n",
            "def calculate_testing_error(P,Q,test_data_matrix):\n",
            "    <source elided>\n",
            "    \n",
            "  e_test = 0\n",
            "  ^\n",
            "\n",
            "  state.func_ir.loc))\n",
            "/usr/local/lib/python3.6/dist-packages/numba/object_mode_passes.py:188: NumbaDeprecationWarning: \n",
            "Fall-back from the nopython compilation path to the object mode compilation path has been detected, this is deprecated behaviour.\n",
            "\n",
            "For more information visit http://numba.pydata.org/numba-doc/latest/reference/deprecation.html#deprecation-of-object-mode-fall-back-behaviour-when-using-jit\n",
            "\n",
            "File \"<ipython-input-12-7a7ee7cff15f>\", line 11:\n",
            "def calculate_testing_error(P,Q,test_data_matrix):\n",
            "    <source elided>\n",
            "    \n",
            "  e_test = 0\n",
            "  ^\n",
            "\n",
            "  state.func_ir.loc))\n",
            "<ipython-input-12-7a7ee7cff15f>:1: NumbaWarning: \n",
            "Compilation is falling back to object mode WITHOUT looplifting enabled because Function \"calculate_testing_error\" failed type inference due to: Invalid use of Function(<function copy at 0x7ff4bb5012f0>) with argument(s) of type(s): (float64)\n",
            " * parameterized\n",
            "In definition 0:\n",
            "    All templates rejected with literals.\n",
            "In definition 1:\n",
            "    All templates rejected without literals.\n",
            "This error is usually caused by passing an argument of a type that is unsupported by the named function.\n",
            "[1] During: resolving callee type: Function(<function copy at 0x7ff4bb5012f0>)\n",
            "[2] During: typing of call at <ipython-input-12-7a7ee7cff15f> (17)\n",
            "\n",
            "\n",
            "File \"<ipython-input-12-7a7ee7cff15f>\", line 17:\n",
            "def calculate_testing_error(P,Q,test_data_matrix):\n",
            "    <source elided>\n",
            "          if test_data_matrix[i][j] !=0 :\n",
            "              e_test = np.copy(e_test + np.abs(eR[i][j] - test_data_matrix[i][j]))\n",
            "              ^\n",
            "\n",
            "  @jit(locals={'step': int_, 'e': double, 'err': double})\n",
            "/usr/local/lib/python3.6/dist-packages/numba/object_mode_passes.py:178: NumbaWarning: Function \"calculate_testing_error\" was compiled in object mode without forceobj=True.\n",
            "\n",
            "File \"<ipython-input-12-7a7ee7cff15f>\", line 14:\n",
            "def calculate_testing_error(P,Q,test_data_matrix):\n",
            "    <source elided>\n",
            "  eR = np.dot(P,Q.T)\n",
            "  for i in range(len(test_data_matrix)):\n",
            "  ^\n",
            "\n",
            "  state.func_ir.loc))\n",
            "/usr/local/lib/python3.6/dist-packages/numba/object_mode_passes.py:188: NumbaDeprecationWarning: \n",
            "Fall-back from the nopython compilation path to the object mode compilation path has been detected, this is deprecated behaviour.\n",
            "\n",
            "For more information visit http://numba.pydata.org/numba-doc/latest/reference/deprecation.html#deprecation-of-object-mode-fall-back-behaviour-when-using-jit\n",
            "\n",
            "File \"<ipython-input-12-7a7ee7cff15f>\", line 14:\n",
            "def calculate_testing_error(P,Q,test_data_matrix):\n",
            "    <source elided>\n",
            "  eR = np.dot(P,Q.T)\n",
            "  for i in range(len(test_data_matrix)):\n",
            "  ^\n",
            "\n",
            "  state.func_ir.loc))\n"
          ],
          "name": "stderr"
        },
        {
          "output_type": "stream",
          "text": [
            "training error  0.815498290481875 test error  0.7451684342876771\n",
            "training error  0.814471646553765 test error  0.748036342068056\n",
            "training error  0.814699705437257 test error  0.7418203630438643\n",
            "training error  0.8151370080621101 test error  0.7421044633962512\n",
            "training error  0.8117647878974963 test error  0.7379548221748274\n",
            "###############################\n",
            "Final training error  0.8143142876865006 Final test error  0.7430168849941352\n",
            "*********************\n",
            "For K =  10\n",
            "*********************\n",
            "training error  0.7118235892171936 test error  0.7847987793753056\n",
            "training error  0.7128711778828063 test error  0.7882134698129389\n",
            "training error  0.711661199552672 test error  0.784572050449053\n",
            "training error  0.7138511067140721 test error  0.7862705176826714\n",
            "training error  0.7108453171249102 test error  0.7880833797975172\n",
            "###############################\n",
            "Final training error  0.7122104780983308 Final test error  0.7863876394234972\n",
            "*********************\n",
            "For K =  15\n",
            "*********************\n",
            "training error  0.6351967263998568 test error  0.8208622410465601\n",
            "training error  0.6357451063436814 test error  0.8240524054444602\n",
            "training error  0.6338670676366092 test error  0.8185125818984104\n",
            "training error  0.6373161959954604 test error  0.8212706922796071\n",
            "training error  0.6333751611356556 test error  0.8148703171413727\n",
            "###############################\n",
            "Final training error  0.6351000515022527 Final test error  0.8199136475620822\n",
            "*********************\n",
            "For K =  30\n",
            "*********************\n",
            "training error  0.4626602397337056 test error  0.9033624031461266\n",
            "training error  0.4627031226304947 test error  0.907022522754377\n",
            "training error  0.4640499599646733 test error  0.9110075742574715\n",
            "training error  0.4657716968426172 test error  0.9091481970855447\n",
            "training error  0.463624489594251 test error  0.8997452832443902\n",
            "###############################\n",
            "Final training error  0.46376190175314835 Final test error  0.9060571960975821\n",
            "*********************\n",
            "For K =  50\n",
            "*********************\n",
            "training error  0.3110800153144346 test error  0.9580843093914065\n",
            "training error  0.31179797854303337 test error  0.9690631483022715\n",
            "training error  0.3142843603801134 test error  0.9591932696867989\n",
            "training error  0.31362323584980434 test error  0.958200107872286\n",
            "training error  0.3153048817632598 test error  0.9666375295765858\n",
            "###############################\n",
            "Final training error  0.3132180943701291 Final test error  0.9622356729658698\n",
            "*********************\n",
            "For K =  100\n",
            "*********************\n",
            "training error  0.14678978494710623 test error  1.0276213871196744\n",
            "training error  0.1420036676674668 test error  1.0409696914926003\n",
            "training error  0.14419767851630574 test error  1.0233102682410844\n",
            "training error  0.1426378905930854 test error  1.0260613871034203\n",
            "training error  0.14241432282309718 test error  1.0311939673514376\n",
            "###############################\n",
            "Final training error  0.14360866890941226 Final test error  1.0298313402616432\n"
          ],
          "name": "stdout"
        }
      ]
    },
    {
      "cell_type": "code",
      "metadata": {
        "id": "B046nk1c4ZFh",
        "colab_type": "code",
        "colab": {
          "base_uri": "https://localhost:8080/",
          "height": 296
        },
        "outputId": "b9216895-3e94-4abb-e176-f0b2341019bf"
      },
      "source": [
        "import matplotlib.pyplot as plt\n",
        "\n",
        "plt.plot(K_list,train_score,'o-',color='r',label='train score')\n",
        "plt.plot(K_list,val_score,'*-',color='b',label = 'validation score')\n",
        "plt.legend()\n",
        "plt.xlabel(\"K\")\n",
        "plt.ylabel(\"score\")\n"
      ],
      "execution_count": null,
      "outputs": [
        {
          "output_type": "execute_result",
          "data": {
            "text/plain": [
              "Text(0, 0.5, 'score')"
            ]
          },
          "metadata": {
            "tags": []
          },
          "execution_count": 17
        },
        {
          "output_type": "display_data",
          "data": {
            "image/png": "[encoded data removed]",
            "text/plain": [
              "<Figure size 432x288 with 1 Axes>"
            ]
          },
          "metadata": {
            "tags": []
          }
        }
      ]
    },
    {
      "cell_type": "markdown",
      "metadata": {
        "id": "rLXNmoCW-HMB",
        "colab_type": "text"
      },
      "source": [
        "#Tuning the learning rate"
      ]
    },
    {
      "cell_type": "code",
      "metadata": {
        "id": "njnpE8QT5Rbh",
        "colab_type": "code",
        "colab": {}
      },
      "source": [
        "K = 10\n",
        "beta = 0.01\n",
        "steps = 300"
      ],
      "execution_count": null,
      "outputs": []
    },
    {
      "cell_type": "code",
      "metadata": {
        "id": "Rx3Zl7zc-PIm",
        "colab_type": "code",
        "colab": {
          "base_uri": "https://localhost:8080/",
          "height": 697
        },
        "outputId": "a3959fec-91d1-4721-bd6e-f2b6b7cecd71"
      },
      "source": [
        "train_score = []\n",
        "val_score = []\n",
        "for alpha in alpha_list:\n",
        "  print(\"*********************\")\n",
        "  print(\"For alpha = \",alpha)\n",
        "  print(\"*********************\")\n",
        "  train_error,val_error,_,_ = cross_val_MF(data,K,alpha,beta,steps)\n",
        "  train_score = train_score + [train_error]\n",
        "  val_score = val_score + [val_error]"
      ],
      "execution_count": null,
      "outputs": [
        {
          "output_type": "stream",
          "text": [
            "*********************\n",
            "For alpha =  0.005\n",
            "*********************\n",
            "training error  0.6953552129704257 test error  0.83875345388035\n",
            "training error  0.701017890715865 test error  0.8562551269377123\n",
            "training error  0.6990259161674423 test error  0.8459561364379775\n",
            "training error  0.7007235411813122 test error  0.8394842649302254\n",
            "training error  0.7005580959927639 test error  0.843264379134155\n",
            "###############################\n",
            "Final training error  0.6993361314055618 Final test error  0.8447426722640842\n",
            "*********************\n",
            "For alpha =  0.001\n",
            "*********************\n",
            "training error  0.7152039367027385 test error  0.7776521400865625\n",
            "training error  0.7108567116078401 test error  0.7871603015884326\n",
            "training error  0.7132516101577089 test error  0.7786155222887732\n",
            "training error  0.7140883069140336 test error  0.7873687778432731\n",
            "training error  0.712373847470505 test error  0.7777435858075287\n",
            "###############################\n",
            "Final training error  0.7131548825705651 Final test error  0.781708065522914\n",
            "*********************\n",
            "For alpha =  0.0001\n",
            "*********************\n",
            "training error  0.891244990392279 test error  0.7559572248261628\n",
            "training error  0.8930509545915095 test error  0.7587778735061991\n",
            "training error  0.8941298931599495 test error  0.7591037988332573\n",
            "training error  0.8912624256905153 test error  0.7550600733873416\n",
            "training error  0.8938055975541103 test error  0.760789668788074\n",
            "###############################\n",
            "Final training error  0.8926987722776728 Final test error  0.7579377278682069\n",
            "*********************\n",
            "For alpha =  1e-05\n",
            "*********************\n",
            "training error  0.9959567734490191 test error  0.8021648065919484\n",
            "training error  0.9993705332341803 test error  0.8118904404765355\n",
            "training error  1.0002438948901853 test error  0.8097819289492183\n",
            "training error  0.9999986323334749 test error  0.8050694842561351\n",
            "training error  0.9955755091795935 test error  0.8059146270766708\n",
            "###############################\n",
            "Final training error  0.9982290686172905 Final test error  0.8069642574701017\n"
          ],
          "name": "stdout"
        }
      ]
    },
    {
      "cell_type": "code",
      "metadata": {
        "id": "kFzYk_gF-bcS",
        "colab_type": "code",
        "colab": {
          "base_uri": "https://localhost:8080/",
          "height": 296
        },
        "outputId": "33398981-c9a9-4a24-8703-3c1cc00671bd"
      },
      "source": [
        "plt.plot(alpha_list,train_score,'o-',color='r',label='train score')\n",
        "plt.plot(alpha_list,val_score,'*-',color='b',label = 'validation score')\n",
        "plt.legend()\n",
        "plt.xlabel(\"alpha\")\n",
        "plt.ylabel(\"score\")"
      ],
      "execution_count": null,
      "outputs": [
        {
          "output_type": "execute_result",
          "data": {
            "text/plain": [
              "Text(0, 0.5, 'score')"
            ]
          },
          "metadata": {
            "tags": []
          },
          "execution_count": 20
        },
        {
          "output_type": "display_data",
          "data": {
            "image/png": "[encoded data removed]",
            "text/plain": [
              "<Figure size 432x288 with 1 Axes>"
            ]
          },
          "metadata": {
            "tags": []
          }
        }
      ]
    },
    {
      "cell_type": "markdown",
      "metadata": {
        "id": "A6fqF0dT_MQB",
        "colab_type": "text"
      },
      "source": [
        "# Tuning the beta parameter"
      ]
    },
    {
      "cell_type": "code",
      "metadata": {
        "id": "pUqq1FsV_A50",
        "colab_type": "code",
        "colab": {}
      },
      "source": [
        "K = 10\n",
        "alpha = 0.0001\n",
        "steps = 300"
      ],
      "execution_count": null,
      "outputs": []
    },
    {
      "cell_type": "code",
      "metadata": {
        "id": "PdX8NnVX_WuD",
        "colab_type": "code",
        "colab": {
          "base_uri": "https://localhost:8080/",
          "height": 697
        },
        "outputId": "e6107c65-04a6-4a1b-80ea-e02e9ee8c49a"
      },
      "source": [
        "train_score = []\n",
        "val_score = []\n",
        "for beta in beta_list:\n",
        "  print(\"*********************\")\n",
        "  print(\"For beta = \",beta)\n",
        "  print(\"*********************\")\n",
        "  train_error,val_error,_,_ = cross_val_MF(data,K,alpha,beta,steps)\n",
        "  train_score = train_score + [train_error]\n",
        "  val_score = val_score + [val_error]"
      ],
      "execution_count": null,
      "outputs": [
        {
          "output_type": "stream",
          "text": [
            "*********************\n",
            "For beta =  0.01\n",
            "*********************\n",
            "training error  0.890751996173668 test error  0.7570893564293704\n",
            "training error  0.8932165035004431 test error  0.7573650747192444\n",
            "training error  0.8926856797180412 test error  0.760300685570502\n",
            "training error  0.8927629705810284 test error  0.7580216140230241\n",
            "training error  0.892069338969295 test error  0.758635278245016\n",
            "###############################\n",
            "Final training error  0.8922972977884951 Final test error  0.7582824017974314\n",
            "*********************\n",
            "For beta =  0.001\n",
            "*********************\n",
            "training error  0.8821519073430284 test error  0.7591426714716063\n",
            "training error  0.8827514276773277 test error  0.75902611334775\n",
            "training error  0.8822736077145109 test error  0.7588128790467785\n",
            "training error  0.8816956473288368 test error  0.758584201470961\n",
            "training error  0.8810643893846843 test error  0.7619888558277869\n",
            "###############################\n",
            "Final training error  0.8819873958896777 Final test error  0.7595109442329765\n",
            "*********************\n",
            "For beta =  0.0001\n",
            "*********************\n",
            "training error  0.8793074577152555 test error  0.7592902110330457\n",
            "training error  0.8805461024938582 test error  0.756862471720813\n",
            "training error  0.8820822885268602 test error  0.7609795074242129\n",
            "training error  0.8814826940126966 test error  0.7562385359209945\n",
            "training error  0.8795039906429676 test error  0.7597338698874203\n",
            "###############################\n",
            "Final training error  0.8805845066783278 Final test error  0.7586209191972972\n",
            "*********************\n",
            "For beta =  0\n",
            "*********************\n",
            "training error  0.8793136372253482 test error  0.7581243840321576\n",
            "training error  0.8782042536994744 test error  0.7578379640813326\n",
            "training error  0.8803536500295277 test error  0.7587637128995118\n",
            "training error  0.8817875460263644 test error  0.7553446539238365\n",
            "training error  0.8789087679292136 test error  0.7603697321138345\n",
            "###############################\n",
            "Final training error  0.8797135709819857 Final test error  0.7580880894101346\n"
          ],
          "name": "stdout"
        }
      ]
    },
    {
      "cell_type": "code",
      "metadata": {
        "id": "Ffok7JrE_dFF",
        "colab_type": "code",
        "colab": {
          "base_uri": "https://localhost:8080/",
          "height": 296
        },
        "outputId": "f788cdd5-e0e9-4047-adc3-3c5f15e5e7b0"
      },
      "source": [
        "plt.plot(beta_list,train_score,'o-',color='r',label='train score')\n",
        "plt.plot(beta_list,val_score,'*-',color='b',label = 'validation score')\n",
        "plt.legend()\n",
        "plt.xlabel(\"beta\")\n",
        "plt.ylabel(\"score\")"
      ],
      "execution_count": null,
      "outputs": [
        {
          "output_type": "execute_result",
          "data": {
            "text/plain": [
              "Text(0, 0.5, 'score')"
            ]
          },
          "metadata": {
            "tags": []
          },
          "execution_count": 23
        },
        {
          "output_type": "display_data",
          "data": {
            "image/png": "[encoded data removed]",
            "text/plain": [
              "<Figure size 432x288 with 1 Axes>"
            ]
          },
          "metadata": {
            "tags": []
          }
        }
      ]
    },
    {
      "cell_type": "markdown",
      "metadata": {
        "id": "Shs7vXagCAaM",
        "colab_type": "text"
      },
      "source": [
        "#Tuning the number of iterations"
      ]
    },
    {
      "cell_type": "code",
      "metadata": {
        "id": "GqQdHxliB251",
        "colab_type": "code",
        "colab": {}
      },
      "source": [
        "K = 10\n",
        "alpha = 0.0001\n",
        "beta= 0.01\n"
      ],
      "execution_count": null,
      "outputs": []
    },
    {
      "cell_type": "code",
      "metadata": {
        "id": "EE9ohM8uCTZq",
        "colab_type": "code",
        "colab": {
          "base_uri": "https://localhost:8080/",
          "height": 697
        },
        "outputId": "2f5dcc84-3040-4264-f93d-dd9514f41ba6"
      },
      "source": [
        "train_score = []\n",
        "val_score = []\n",
        "for steps in steps_list:\n",
        "  print(\"*********************\")\n",
        "  print(\"For steps = \",steps)\n",
        "  print(\"*********************\")\n",
        "  train_error,val_error,_,_ = cross_val_MF(data,K,alpha,beta,steps)\n",
        "  train_score = train_score + [train_error]\n",
        "  val_score = val_score + [val_error]"
      ],
      "execution_count": null,
      "outputs": [
        {
          "output_type": "stream",
          "text": [
            "*********************\n",
            "For steps =  150\n",
            "*********************\n",
            "training error  0.9185851120291278 test error  0.7597213180064686\n",
            "training error  0.9206383216746494 test error  0.762557597686802\n",
            "training error  0.9197678780184367 test error  0.7604708896528684\n",
            "training error  0.920775389032381 test error  0.7583559060269773\n",
            "training error  0.9183175511127107 test error  0.7638866369685803\n",
            "###############################\n",
            "Final training error  0.9196168503734612 Final test error  0.7609984696683394\n",
            "*********************\n",
            "For steps =  300\n",
            "*********************\n",
            "training error  0.8934127747746041 test error  0.7603052662197051\n",
            "training error  0.8945571888451612 test error  0.7587557917500123\n",
            "training error  0.8931427621434408 test error  0.7577489419250706\n",
            "training error  0.8913313428388941 test error  0.755884374748486\n",
            "training error  0.8921239944177171 test error  0.7603147955054961\n",
            "###############################\n",
            "Final training error  0.8929136126039635 Final test error  0.758601834029754\n",
            "*********************\n",
            "For steps =  500\n",
            "*********************\n",
            "training error  0.8551814501681125 test error  0.7526792257060122\n",
            "training error  0.8531414952299826 test error  0.7530096510388233\n",
            "training error  0.8608835667613116 test error  0.7586911975846784\n",
            "training error  0.8556465288405467 test error  0.7552633910100797\n",
            "training error  0.8558855110282869 test error  0.76008667228749\n",
            "###############################\n",
            "Final training error  0.8561477104056481 Final test error  0.7559460275254167\n",
            "*********************\n",
            "For steps =  1000\n",
            "*********************\n",
            "training error  0.7879051158722635 test error  0.7640057984221952\n",
            "training error  0.7891234586791731 test error  0.767471086349316\n",
            "training error  0.7926319721990351 test error  0.7692684755461926\n",
            "training error  0.7905899509708015 test error  0.7629479170289627\n",
            "training error  0.7856436159512742 test error  0.7657538201232703\n",
            "###############################\n",
            "Final training error  0.7891788227345095 Final test error  0.7658894194939874\n"
          ],
          "name": "stdout"
        }
      ]
    },
    {
      "cell_type": "code",
      "metadata": {
        "id": "LNQPjyD5Cfoq",
        "colab_type": "code",
        "colab": {
          "base_uri": "https://localhost:8080/",
          "height": 297
        },
        "outputId": "62dd0cfe-abdb-4ac6-948d-e198f2a18d99"
      },
      "source": [
        "plt.plot(steps_list,train_score,'o-',color='r',label='train score')\n",
        "plt.plot(steps_list,val_score,'*-',color='b',label = 'validation score')\n",
        "plt.legend()\n",
        "plt.xlabel(\"iterations\")\n",
        "plt.ylabel(\"score\")"
      ],
      "execution_count": null,
      "outputs": [
        {
          "output_type": "execute_result",
          "data": {
            "text/plain": [
              "Text(0, 0.5, 'score')"
            ]
          },
          "metadata": {
            "tags": []
          },
          "execution_count": 26
        },
        {
          "output_type": "display_data",
          "data": {
            "image/png": "[encoded data removed]",
            "text/plain": [
              "<Figure size 432x288 with 1 Axes>"
            ]
          },
          "metadata": {
            "tags": []
          }
        }
      ]
    },
    {
      "cell_type": "markdown",
      "metadata": {
        "id": "jUtAU-IFDM2k",
        "colab_type": "text"
      },
      "source": [
        "#Statistical Significance"
      ]
    },
    {
      "cell_type": "markdown",
      "metadata": {
        "id": "fGW7VcrNDhV9",
        "colab_type": "text"
      },
      "source": [
        "This function provides a statistical significance between the results of two models. To test if model 1 is better than model 2, we can compare the statistical significance of the difference between the mean of their 5 cross validation results. Statistically significant results can confirm that model 1 is better.\n",
        "\n",
        "Let's consider \n",
        "\n",
        "\n",
        "model 1: MF with K = 10\n",
        "\n",
        "model 2: MF with K = 50"
      ]
    },
    {
      "cell_type": "code",
      "metadata": {
        "id": "k_4efY5KFl5y",
        "colab_type": "code",
        "colab": {}
      },
      "source": [
        "alpha = 0.0001\n",
        "beta= 0.01\n",
        "steps = 300\n"
      ],
      "execution_count": null,
      "outputs": []
    },
    {
      "cell_type": "code",
      "metadata": {
        "id": "lOuDofGNC3Ag",
        "colab_type": "code",
        "colab": {
          "base_uri": "https://localhost:8080/",
          "height": 187
        },
        "outputId": "34de6013-6ec3-4c3e-b02f-720b8db57645"
      },
      "source": [
        "# model 1:\n",
        "K  = 10\n",
        "print(\"*********************\")\n",
        "print(\"For K = \",K)\n",
        "print(\"*********************\")\n",
        "train_error,val_error,train_scores_1,test_scores_1 = cross_val_MF(data,K,alpha,beta,steps)"
      ],
      "execution_count": null,
      "outputs": [
        {
          "output_type": "stream",
          "text": [
            "*********************\n",
            "For K =  10\n",
            "*********************\n",
            "training error  0.8926909941406633 test error  0.7554501283719733\n",
            "training error  0.8953086093710831 test error  0.7597536025990718\n",
            "training error  0.894286463408843 test error  0.7563686768287297\n",
            "training error  0.8944888714250091 test error  0.7557569953549075\n",
            "training error  0.8902136492131386 test error  0.7592562588643003\n",
            "###############################\n",
            "Final training error  0.8933977175117475 Final test error  0.7573171324037965\n"
          ],
          "name": "stdout"
        }
      ]
    },
    {
      "cell_type": "code",
      "metadata": {
        "id": "16vejy12F-I6",
        "colab_type": "code",
        "colab": {
          "base_uri": "https://localhost:8080/",
          "height": 187
        },
        "outputId": "7976862d-cc78-421f-ebb3-2759f38ce7ec"
      },
      "source": [
        "# model 2\n",
        "K  = 50\n",
        "print(\"*********************\")\n",
        "print(\"For K = \",K)\n",
        "print(\"*********************\")\n",
        "train_error,val_error,train_scores_2,test_scores_2 = cross_val_MF(data,K,alpha,beta,steps) \n"
      ],
      "execution_count": null,
      "outputs": [
        {
          "output_type": "stream",
          "text": [
            "*********************\n",
            "For K =  50\n",
            "*********************\n",
            "training error  0.7572368930942444 test error  0.8400108258690072\n",
            "training error  0.7603365540897663 test error  0.8396825103361343\n",
            "training error  0.7626975968018497 test error  0.8413921237649369\n",
            "training error  0.7585735577075386 test error  0.8355183016402954\n",
            "training error  0.7547661801661449 test error  0.8404964189320197\n",
            "###############################\n",
            "Final training error  0.7587221563719087 Final test error  0.8394200361084787\n"
          ],
          "name": "stdout"
        }
      ]
    },
    {
      "cell_type": "markdown",
      "metadata": {
        "id": "9H2yelChGRo3",
        "colab_type": "text"
      },
      "source": [
        "We are interested in comparing **test_scores_1** and **test_scores_2** that corresponds to the testing score from model 1 and model 2."
      ]
    },
    {
      "cell_type": "code",
      "metadata": {
        "id": "77Is1dYmGQG_",
        "colab_type": "code",
        "colab": {
          "base_uri": "https://localhost:8080/",
          "height": 51
        },
        "outputId": "e18c6de5-c2d7-4532-c3a0-577e7d078016"
      },
      "source": [
        "from scipy import stats\n",
        "t,p = stats.ttest_rel(test_scores_1,test_scores_2)\n",
        "print(\"p-value is\",p)\n",
        "print(\"t statistic is\",t)"
      ],
      "execution_count": null,
      "outputs": [
        {
          "output_type": "stream",
          "text": [
            "p-value is 2.1478614473496927e-07\n",
            "t statistic is -72.67737965260861\n"
          ],
          "name": "stdout"
        }
      ]
    },
    {
      "cell_type": "markdown",
      "metadata": {
        "id": "xm73jsr9JRTs",
        "colab_type": "text"
      },
      "source": [
        "As we can see, the p-value is below 0.05. We can say that the accuracy of model with 10 neighbors is significantly different from MF with 50 neighbors"
      ]
    }
  ]
}