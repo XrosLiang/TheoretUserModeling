{
  "nbformat": 4,
  "nbformat_minor": 0,
  "metadata": {
    "kernelspec": {
      "display_name": "Python 3",
      "language": "python",
      "name": "python3"
    },
    "language_info": {
      "codemirror_mode": {
        "name": "ipython",
        "version": 3
      },
      "file_extension": ".py",
      "mimetype": "text/x-python",
      "name": "python",
      "nbconvert_exporter": "python",
      "pygments_lexer": "ipython3",
      "version": "3.7.3"
    },
    "colab": {
      "name": "Simulation_Theor.ipynb",
      "provenance": [],
      "include_colab_link": true
    }
  },
  "cells": [
    {
      "cell_type": "markdown",
      "metadata": {
        "id": "view-in-github",
        "colab_type": "text"
      },
      "source": [
        "<a href=\"https://colab.research.google.com/github/samikhenissi/TheoretUserModeling/blob/master/Simulation_Theor.ipynb\" target=\"_parent\"><img src=\"https://colab.research.google.com/assets/colab-badge.svg\" alt=\"Open In Colab\"/></a>"
      ]
    },
    {
      "cell_type": "code",
      "metadata": {
        "id": "ArF1AoPSf18o",
        "colab_type": "code",
        "colab": {}
      },
      "source": [
        "import pandas as pd\n",
        "import numpy as np\n",
        "import random\n",
        "#from bias_metrics import *\n",
        "import tqdm\n",
        "from numba import jit\n",
        "import matplotlib.pyplot as plt"
      ],
      "execution_count": null,
      "outputs": []
    },
    {
      "cell_type": "code",
      "metadata": {
        "id": "hvPr3980IH8d",
        "colab_type": "code",
        "colab": {
          "base_uri": "https://localhost:8080/",
          "height": 85
        },
        "outputId": "65a5d3ec-0d23-442a-ff1f-150f4466acb2"
      },
      "source": [
        "!pip install numba"
      ],
      "execution_count": null,
      "outputs": [
        {
          "output_type": "stream",
          "text": [
            "Requirement already satisfied: numba in /usr/local/lib/python3.6/dist-packages (0.48.0)\n",
            "Requirement already satisfied: numpy>=1.15 in /usr/local/lib/python3.6/dist-packages (from numba) (1.18.4)\n",
            "Requirement already satisfied: llvmlite<0.32.0,>=0.31.0dev0 in /usr/local/lib/python3.6/dist-packages (from numba) (0.31.0)\n",
            "Requirement already satisfied: setuptools in /usr/local/lib/python3.6/dist-packages (from numba) (46.4.0)\n"
          ],
          "name": "stdout"
        }
      ]
    },
    {
      "cell_type": "markdown",
      "metadata": {
        "id": "HJILx33Ef18t",
        "colab_type": "text"
      },
      "source": [
        "## 1- Defining MF learning function"
      ]
    },
    {
      "cell_type": "code",
      "metadata": {
        "id": "6HZbAExtf18u",
        "colab_type": "code",
        "colab": {}
      },
      "source": [
        "@jit\n",
        "def matrix_factorization(R , K=10, nsteps=300, alpha=0.001, beta=0.01 ): #this funcion train the MF model Using gradient decent \n",
        "    P = np.random.rand(len(R),K)\n",
        "    Q = np.random.rand(len(R[0]),K)\n",
        "    Q = Q.T\n",
        "    steps = nsteps\n",
        "    N,M = R.shape\n",
        "    for step in range(steps):\n",
        "        for i in range(N):\n",
        "            for j in range(M):\n",
        "                if R[i][j] > 0:\n",
        "                    eij = R[i][j] - np.dot(P[i,:],Q[:,j])\n",
        "                    for k in range(K):\n",
        "                        P[i][k] = P[i][k] + alpha * (2 * eij * Q[k][j] - beta * P[i][k] ) \n",
        "                        Q[k][j] = Q[k][j] + alpha * (2 * eij * P[i][k] - beta * Q[k][j] ) \n",
        "                    \n",
        "    return P, Q.T \n",
        "\n"
      ],
      "execution_count": null,
      "outputs": []
    },
    {
      "cell_type": "markdown",
      "metadata": {
        "id": "e-If2wrnf18y",
        "colab_type": "text"
      },
      "source": [
        "## 2 - Importing Dataset (link also provided in the paper)"
      ]
    },
    {
      "cell_type": "code",
      "metadata": {
        "id": "gCKBatS_IQfq",
        "colab_type": "code",
        "colab": {
          "base_uri": "https://localhost:8080/",
          "height": 238
        },
        "outputId": "79b2edcf-3eff-45c0-ef3c-ad344b8ca7cd"
      },
      "source": [
        "!wget http://files.grouplens.org/datasets/movielens/ml-1m.zip\n",
        "!unzip ml-1m.zip"
      ],
      "execution_count": null,
      "outputs": [
        {
          "output_type": "stream",
          "text": [
            "--2020-06-01 14:08:19--  http://files.grouplens.org/datasets/movielens/ml-1m.zip\n",
            "Resolving files.grouplens.org (files.grouplens.org)... 128.101.65.152\n",
            "Connecting to files.grouplens.org (files.grouplens.org)|128.101.65.152|:80... connected.\n",
            "HTTP request sent, awaiting response... 200 OK\n",
            "Length: 5917549 (5.6M) [application/zip]\n",
            "Saving to: ‘ml-1m.zip.1’\n",
            "\n",
            "ml-1m.zip.1         100%[===================>]   5.64M  14.7MB/s    in 0.4s    \n",
            "\n",
            "2020-06-01 14:08:19 (14.7 MB/s) - ‘ml-1m.zip.1’ saved [5917549/5917549]\n",
            "\n",
            "Archive:  ml-1m.zip\n",
            "replace ml-1m/movies.dat? [y]es, [n]o, [A]ll, [N]one, [r]ename: "
          ],
          "name": "stdout"
        }
      ]
    },
    {
      "cell_type": "code",
      "metadata": {
        "id": "CjaQEb0Of18z",
        "colab_type": "code",
        "colab": {
          "base_uri": "https://localhost:8080/",
          "height": 71
        },
        "outputId": "f738d8b2-d3bb-4c38-a671-e344d6cb6fe6"
      },
      "source": [
        "################# MovieLens\n",
        "\n",
        "data = pd.read_csv(\"ml-1m/ratings.dat\",sep='::',names=\"UserId,movieID,Rating,Timestamp\".split(\",\"))\n",
        "n_users = data.UserId.max()\n",
        "n_items = data.movieID.max()\n",
        "\n",
        "#Create the full data matrix (has training and testing)   \n",
        "full_data = np.zeros((n_users, n_items))\n",
        "for line in data.itertuples():\n",
        "    full_data[line[1]-1, line[2]-1] = line[3]\n",
        "\n",
        "#Save a copy to be able to reset the data matrix    \n",
        "Reset_data = np.copy(full_data)\n",
        "## complete matrix of ratings\n",
        "P_mov,Q_mov = matrix_factorization(full_data , K=10, nsteps=300, alpha=0.001, beta=0.01 )\n",
        "R_hat_MF = np.dot(P_mov,Q_mov.T)\n"
      ],
      "execution_count": null,
      "outputs": [
        {
          "output_type": "stream",
          "text": [
            "/usr/local/lib/python3.6/dist-packages/ipykernel_launcher.py:3: ParserWarning: Falling back to the 'python' engine because the 'c' engine does not support regex separators (separators > 1 char and different from '\\s+' are interpreted as regex); you can avoid this warning by specifying engine='python'.\n",
            "  This is separate from the ipykernel package so we can avoid doing imports until\n"
          ],
          "name": "stderr"
        }
      ]
    },
    {
      "cell_type": "code",
      "metadata": {
        "id": "FksDwgAjf183",
        "colab_type": "code",
        "colab": {}
      },
      "source": [
        "### remove training data: \n",
        "R_hat_MF = R_hat_MF * ((full_data==0)*1)"
      ],
      "execution_count": null,
      "outputs": []
    },
    {
      "cell_type": "markdown",
      "metadata": {
        "id": "k_XYzkfFf186",
        "colab_type": "text"
      },
      "source": [
        "## Getting all the genres in the dataset as a unique list"
      ]
    },
    {
      "cell_type": "code",
      "metadata": {
        "id": "0icQIvpwf187",
        "colab_type": "code",
        "colab": {
          "base_uri": "https://localhost:8080/",
          "height": 71
        },
        "outputId": "d84c58de-1d42-40b0-895b-6f096a2551d7"
      },
      "source": [
        "movie = pd.read_csv(\"ml-1m/movies.dat\",sep='::',names=\"movieID::Name::Genre\".split(\"::\"))\n",
        "movie = movie.set_index('movieID')\n",
        "new_index = pd.Index(np.arange(1,full_data.shape[1]+1), name=\"movieID\")\n",
        "movie = movie.reindex(new_index).reset_index()\n",
        "movie.fillna(\"unkown\",inplace = True)\n",
        "movie['Genre'] = movie['Genre'].apply(lambda x: x.split(\"|\"))"
      ],
      "execution_count": null,
      "outputs": [
        {
          "output_type": "stream",
          "text": [
            "/usr/local/lib/python3.6/dist-packages/ipykernel_launcher.py:1: ParserWarning: Falling back to the 'python' engine because the 'c' engine does not support regex separators (separators > 1 char and different from '\\s+' are interpreted as regex); you can avoid this warning by specifying engine='python'.\n",
            "  \"\"\"Entry point for launching an IPython kernel.\n"
          ],
          "name": "stderr"
        }
      ]
    },
    {
      "cell_type": "code",
      "metadata": {
        "id": "uYfeqWRlf18-",
        "colab_type": "code",
        "colab": {
          "base_uri": "https://localhost:8080/",
          "height": 34
        },
        "outputId": "3562de58-e0cd-4dbd-8868-aa432f1f5cef"
      },
      "source": [
        "genres = []\n",
        "genres_df = movie['Genre']\n",
        "for l in tqdm.tqdm(genres_df):\n",
        "    for g in l:\n",
        "        if g not in genres:\n",
        "            genres += [g]"
      ],
      "execution_count": null,
      "outputs": [
        {
          "output_type": "stream",
          "text": [
            "100%|██████████| 3952/3952 [00:00<00:00, 583391.03it/s]\n"
          ],
          "name": "stderr"
        }
      ]
    },
    {
      "cell_type": "code",
      "metadata": {
        "id": "67TRaCKzf19C",
        "colab_type": "code",
        "colab": {
          "base_uri": "https://localhost:8080/",
          "height": 340
        },
        "outputId": "7ac6f335-2d1c-4a32-89c1-01cd7ebb2354"
      },
      "source": [
        "genres"
      ],
      "execution_count": null,
      "outputs": [
        {
          "output_type": "execute_result",
          "data": {
            "text/plain": [
              "['Animation',\n",
              " \"Children's\",\n",
              " 'Comedy',\n",
              " 'Adventure',\n",
              " 'Fantasy',\n",
              " 'Romance',\n",
              " 'Drama',\n",
              " 'Action',\n",
              " 'Crime',\n",
              " 'Thriller',\n",
              " 'Horror',\n",
              " 'Sci-Fi',\n",
              " 'Documentary',\n",
              " 'War',\n",
              " 'Musical',\n",
              " 'Mystery',\n",
              " 'unkown',\n",
              " 'Film-Noir',\n",
              " 'Western']"
            ]
          },
          "metadata": {
            "tags": []
          },
          "execution_count": 13
        }
      ]
    },
    {
      "cell_type": "markdown",
      "metadata": {
        "id": "QkTnKgnTf19F",
        "colab_type": "text"
      },
      "source": [
        "## Functions to be used in experiments"
      ]
    },
    {
      "cell_type": "code",
      "metadata": {
        "id": "gZQFI51Kf19G",
        "colab_type": "code",
        "colab": {}
      },
      "source": [
        "def calc_seen(user_ratings):  # Return list of seen groups\n",
        "    i=1\n",
        "    genres_seen = []\n",
        "    for c in user_ratings:\n",
        "        if c !=0:\n",
        "            for g in movie[movie['movieID']==i]['Genre'].item():\n",
        "                if g not in genres_seen:\n",
        "                    genres_seen += [g]\n",
        "        i+=1\n",
        "        \n",
        "    return genres_seen"
      ],
      "execution_count": null,
      "outputs": []
    },
    {
      "cell_type": "code",
      "metadata": {
        "id": "Sh8cLVm9f19K",
        "colab_type": "code",
        "colab": {}
      },
      "source": [
        "def calc_mean(user_ratings_pred,genres_seen):  # return mean ratings of seen groups\n",
        "    i=1\n",
        "    tot_seen = 0\n",
        "    tot_unseen = 0\n",
        "    num_seen=0\n",
        "    num_unseen = 0\n",
        "    for c in user_ratings_pred:\n",
        "        if c !=0:\n",
        "            genres = movie[movie['movieID']==i]['Genre'].item()\n",
        "            if len(list(set(genres) & set(genres_seen))) >0 :\n",
        "                tot_seen +=c\n",
        "                num_seen +=1\n",
        "            else:\n",
        "                tot_unseen += c\n",
        "                num_unseen += 1\n",
        "                \n",
        "        i+=1\n",
        "        \n",
        "    return [tot_seen/num_seen,tot_unseen/num_unseen]"
      ],
      "execution_count": null,
      "outputs": []
    },
    {
      "cell_type": "code",
      "metadata": {
        "id": "gAwHN49if19N",
        "colab_type": "code",
        "colab": {}
      },
      "source": [
        "def calc_mean_notseen(user_ratings_pred,genres_seen):  ## return mean ratings of unseen groups\n",
        "    i=1\n",
        "    tot = 0\n",
        "    j=0\n",
        "    for c in user_ratings_pred:\n",
        "        if c !=0:\n",
        "            genres = movie[movie['movieID']==i]['Genre'].item()\n",
        "            for g in genres:\n",
        "                if g not in genres_seen:\n",
        "                    tot += c\n",
        "                    j+=1\n",
        "        i+=1\n",
        "        \n",
        "    return tot/j"
      ],
      "execution_count": null,
      "outputs": []
    },
    {
      "cell_type": "code",
      "metadata": {
        "id": "JBSSdlstf19P",
        "colab_type": "code",
        "colab": {
          "base_uri": "https://localhost:8080/",
          "height": 34
        },
        "outputId": "45e09f1c-73d4-4b6d-c75d-b906fe4a183e"
      },
      "source": [
        "%%time ## testing one iteration\n",
        "calc_mean(R_hat_MF[0],calc_seen(full_data[0]))"
      ],
      "execution_count": null,
      "outputs": [
        {
          "output_type": "stream",
          "text": [
            "UsageError: Can't use statement directly after '%%time'!\n"
          ],
          "name": "stderr"
        }
      ]
    },
    {
      "cell_type": "markdown",
      "metadata": {
        "id": "E0Ig9F2of19S",
        "colab_type": "text"
      },
      "source": [
        "### experiemtns for validating assumption 3.3"
      ]
    },
    {
      "cell_type": "code",
      "metadata": {
        "id": "pY5RlRlmf19T",
        "colab_type": "code",
        "colab": {},
        "outputId": "04e92906-b784-46fc-8605-675af36fc8af"
      },
      "source": [
        "## repeating experiments 10 times and getting avgs \n",
        "finalavgs = []\n",
        "for iterations in range(10):\n",
        "    print(iterations)\n",
        "    random.seed(iterations) \n",
        "    P_mov,Q_mov = matrix_factorization(full_data , K=10, nsteps=300, alpha=0.001, beta=0.01 )\n",
        "    R_hat_MF = np.dot(P_mov,Q_mov.T)\n",
        "    avgs = []\n",
        "    for u in range(n_users):\n",
        "        avgs += [calc_mean(R_hat_MF[u],calc_seen(full_data[u]))]\n",
        "    finalavgs += [np.mean(avgs,0).tolist()]\n",
        "    print(finalavgs)"
      ],
      "execution_count": null,
      "outputs": [
        {
          "output_type": "stream",
          "text": [
            "0\n",
            "[[3.1220165715826487, 3.0112537561753574]]\n",
            "1\n",
            "[[3.1220165715826487, 3.0112537561753574], [3.118619219336794, 3.014196014273244]]\n",
            "2\n",
            "[[3.1220165715826487, 3.0112537561753574], [3.118619219336794, 3.014196014273244], [3.1187311882823687, 3.0052386903261876]]\n",
            "3\n",
            "[[3.1220165715826487, 3.0112537561753574], [3.118619219336794, 3.014196014273244], [3.1187311882823687, 3.0052386903261876], [3.1307157375953536, 2.95765833449553]]\n",
            "4\n",
            "[[3.1220165715826487, 3.0112537561753574], [3.118619219336794, 3.014196014273244], [3.1187311882823687, 3.0052386903261876], [3.1307157375953536, 2.95765833449553], [3.122552877933369, 3.005341113706473]]\n",
            "5\n",
            "[[3.1220165715826487, 3.0112537561753574], [3.118619219336794, 3.014196014273244], [3.1187311882823687, 3.0052386903261876], [3.1307157375953536, 2.95765833449553], [3.122552877933369, 3.005341113706473], [3.118290807654631, 2.9485414200267974]]\n",
            "6\n",
            "[[3.1220165715826487, 3.0112537561753574], [3.118619219336794, 3.014196014273244], [3.1187311882823687, 3.0052386903261876], [3.1307157375953536, 2.95765833449553], [3.122552877933369, 3.005341113706473], [3.118290807654631, 2.9485414200267974], [3.1224229069918663, 2.9978684588607285]]\n",
            "7\n",
            "[[3.1220165715826487, 3.0112537561753574], [3.118619219336794, 3.014196014273244], [3.1187311882823687, 3.0052386903261876], [3.1307157375953536, 2.95765833449553], [3.122552877933369, 3.005341113706473], [3.118290807654631, 2.9485414200267974], [3.1224229069918663, 2.9978684588607285], [3.12519149584333, 3.0356635148458198]]\n",
            "8\n",
            "[[3.1220165715826487, 3.0112537561753574], [3.118619219336794, 3.014196014273244], [3.1187311882823687, 3.0052386903261876], [3.1307157375953536, 2.95765833449553], [3.122552877933369, 3.005341113706473], [3.118290807654631, 2.9485414200267974], [3.1224229069918663, 2.9978684588607285], [3.12519149584333, 3.0356635148458198], [3.1279722733383197, 3.0424040177501754]]\n",
            "9\n",
            "[[3.1220165715826487, 3.0112537561753574], [3.118619219336794, 3.014196014273244], [3.1187311882823687, 3.0052386903261876], [3.1307157375953536, 2.95765833449553], [3.122552877933369, 3.005341113706473], [3.118290807654631, 2.9485414200267974], [3.1224229069918663, 2.9978684588607285], [3.12519149584333, 3.0356635148458198], [3.1279722733383197, 3.0424040177501754], [3.120745763029213, 3.0130096267274977]]\n"
          ],
          "name": "stdout"
        }
      ]
    },
    {
      "cell_type": "code",
      "metadata": {
        "id": "77SXF7mGf19W",
        "colab_type": "code",
        "colab": {},
        "outputId": "7a1e8528-8476-40cc-82a2-962eaf6bec8c"
      },
      "source": [
        "np.mean(finalavgs,0)"
      ],
      "execution_count": null,
      "outputs": [
        {
          "output_type": "execute_result",
          "data": {
            "text/plain": [
              "array([3.12272588, 3.00311749])"
            ]
          },
          "metadata": {
            "tags": []
          },
          "execution_count": 479
        }
      ]
    },
    {
      "cell_type": "code",
      "metadata": {
        "id": "krymAQ7kf19Y",
        "colab_type": "code",
        "colab": {},
        "outputId": "2cff94ad-4bab-4f7f-9d5c-5693d7fd1240"
      },
      "source": [
        "np.var(finalavgs,0)"
      ],
      "execution_count": null,
      "outputs": [
        {
          "output_type": "execute_result",
          "data": {
            "text/plain": [
              "array([1.54479523e-05, 7.97154045e-04])"
            ]
          },
          "metadata": {
            "tags": []
          },
          "execution_count": 480
        }
      ]
    },
    {
      "cell_type": "code",
      "metadata": {
        "id": "NCYBVO--f19c",
        "colab_type": "code",
        "colab": {},
        "outputId": "8c65c781-78a9-4e3c-8656-c366c7114a59"
      },
      "source": [
        "Av = np.array(finalavgs)Av ## stat test for segnificance\n",
        "stats.ttest_ind(Av[:,0],Av[:,1])"
      ],
      "execution_count": null,
      "outputs": [
        {
          "output_type": "execute_result",
          "data": {
            "text/plain": [
              "Ttest_indResult(statistic=12.587629588605385, pvalue=2.3286073363641905e-10)"
            ]
          },
          "metadata": {
            "tags": []
          },
          "execution_count": 484
        }
      ]
    },
    {
      "cell_type": "markdown",
      "metadata": {
        "id": "Qsuondigf19e",
        "colab_type": "text"
      },
      "source": [
        "### showing the difference in distributions"
      ]
    },
    {
      "cell_type": "code",
      "metadata": {
        "id": "wI4bGhBlf19f",
        "colab_type": "code",
        "colab": {
          "base_uri": "https://localhost:8080/",
          "height": 231
        },
        "outputId": "84fc154c-3f1a-412e-dcac-033725bd1248"
      },
      "source": [
        "sns.distplot(Av[:,0],hist = False,kde = True,label = \"seen groups\")\n",
        "sns.distplot(Av[:,1],hist = False,kde = True,label = \"not seen groups\")\n",
        "plt.xlabel('Predicted Rating')\n",
        "plt.ylabel('Percentage')\n",
        "plt.legend(loc='upper left')\n",
        "plt.title('Distribution of the predicted ratings of the seen vs not seen items')\n",
        "\n",
        "\n",
        "plt.show()\n"
      ],
      "execution_count": 1,
      "outputs": [
        {
          "output_type": "error",
          "ename": "NameError",
          "evalue": "ignored",
          "traceback": [
            "\u001b[0;31m---------------------------------------------------------------------------\u001b[0m",
            "\u001b[0;31mNameError\u001b[0m                                 Traceback (most recent call last)",
            "\u001b[0;32m<ipython-input-1-f7ce75cf8e67>\u001b[0m in \u001b[0;36m<module>\u001b[0;34m()\u001b[0m\n\u001b[0;32m----> 1\u001b[0;31m \u001b[0msns\u001b[0m\u001b[0;34m.\u001b[0m\u001b[0mdistplot\u001b[0m\u001b[0;34m(\u001b[0m\u001b[0mAv\u001b[0m\u001b[0;34m[\u001b[0m\u001b[0;34m:\u001b[0m\u001b[0;34m,\u001b[0m\u001b[0;36m0\u001b[0m\u001b[0;34m]\u001b[0m\u001b[0;34m,\u001b[0m\u001b[0mhist\u001b[0m \u001b[0;34m=\u001b[0m \u001b[0;32mFalse\u001b[0m\u001b[0;34m,\u001b[0m\u001b[0mkde\u001b[0m \u001b[0;34m=\u001b[0m \u001b[0;32mTrue\u001b[0m\u001b[0;34m,\u001b[0m\u001b[0mlabel\u001b[0m \u001b[0;34m=\u001b[0m \u001b[0;34m\"seen groups\"\u001b[0m\u001b[0;34m)\u001b[0m\u001b[0;34m\u001b[0m\u001b[0;34m\u001b[0m\u001b[0m\n\u001b[0m\u001b[1;32m      2\u001b[0m \u001b[0msns\u001b[0m\u001b[0;34m.\u001b[0m\u001b[0mdistplot\u001b[0m\u001b[0;34m(\u001b[0m\u001b[0mAv\u001b[0m\u001b[0;34m[\u001b[0m\u001b[0;34m:\u001b[0m\u001b[0;34m,\u001b[0m\u001b[0;36m1\u001b[0m\u001b[0;34m]\u001b[0m\u001b[0;34m,\u001b[0m\u001b[0mhist\u001b[0m \u001b[0;34m=\u001b[0m \u001b[0;32mFalse\u001b[0m\u001b[0;34m,\u001b[0m\u001b[0mkde\u001b[0m \u001b[0;34m=\u001b[0m \u001b[0;32mTrue\u001b[0m\u001b[0;34m,\u001b[0m\u001b[0mlabel\u001b[0m \u001b[0;34m=\u001b[0m \u001b[0;34m\"not seen groups\"\u001b[0m\u001b[0;34m)\u001b[0m\u001b[0;34m\u001b[0m\u001b[0;34m\u001b[0m\u001b[0m\n\u001b[1;32m      3\u001b[0m \u001b[0mplt\u001b[0m\u001b[0;34m.\u001b[0m\u001b[0mxlabel\u001b[0m\u001b[0;34m(\u001b[0m\u001b[0;34m'Predicted Rating'\u001b[0m\u001b[0;34m)\u001b[0m\u001b[0;34m\u001b[0m\u001b[0;34m\u001b[0m\u001b[0m\n\u001b[1;32m      4\u001b[0m \u001b[0mplt\u001b[0m\u001b[0;34m.\u001b[0m\u001b[0mylabel\u001b[0m\u001b[0;34m(\u001b[0m\u001b[0;34m'Percentage'\u001b[0m\u001b[0;34m)\u001b[0m\u001b[0;34m\u001b[0m\u001b[0;34m\u001b[0m\u001b[0m\n\u001b[1;32m      5\u001b[0m \u001b[0mplt\u001b[0m\u001b[0;34m.\u001b[0m\u001b[0mlegend\u001b[0m\u001b[0;34m(\u001b[0m\u001b[0mloc\u001b[0m\u001b[0;34m=\u001b[0m\u001b[0;34m'upper left'\u001b[0m\u001b[0;34m)\u001b[0m\u001b[0;34m\u001b[0m\u001b[0;34m\u001b[0m\u001b[0m\n",
            "\u001b[0;31mNameError\u001b[0m: name 'sns' is not defined"
          ]
        }
      ]
    },
    {
      "cell_type": "markdown",
      "metadata": {
        "id": "UfhJqD-af19i",
        "colab_type": "text"
      },
      "source": [
        "## Simulation experiments (iterative simulations)"
      ]
    },
    {
      "cell_type": "code",
      "metadata": {
        "id": "pKumfnszf19j",
        "colab_type": "code",
        "colab": {}
      },
      "source": [
        "import random\n",
        "@jit\n",
        "def topn(eR,n,u): # Calculate the list of n recommended items\n",
        "    sorted = np.argsort(-eR[u])\n",
        "    top_n = sorted[0:n]\n",
        "    return top_n\n",
        "\n",
        "def calc_rel(P,Q):\n",
        "    n_users = P.shape[0]\n",
        "    n_items = Q.shape[0]\n",
        "    rel = np.zeros((n_users, n_items))\n",
        "    Rpred = np.dot(P,Q.T)\n",
        "    for i in range(n_users):\n",
        "        rel[i] = 2**Rpred[i]/2**np.max(Rpred[i])\n",
        "    return rel\n",
        "\n",
        "\n",
        "@jit\n",
        "def selection_topn(predicted,n,start_data): # Calculate the list of n recommended items\n",
        "    n_users,n_items = predicted.shape\n",
        "    selection = np.zeros(shape=(n_users,n))\n",
        "    for i in range(n_users):\n",
        "        sorted = np.argsort(-predicted[i])\n",
        "        top_n = sorted[0:n]\n",
        "        selection[i] = top_n\n",
        "    return selection\n",
        "\n",
        "\n",
        "@jit\n",
        "def calc_rel_comp(Rpred,train_data_matrix):\n",
        "    n_users = Rpred.shape[0]\n",
        "    n_items = Rpred.shape[1]\n",
        "    rel = np.zeros(shape=(n_users,n_items))\n",
        "    selected = selection_topn(Rpred,n_items,train_data_matrix)\n",
        "    for i in range(n_users):\n",
        "        for j in range(n_items):\n",
        "            rel[i,int(selected[i,j])] = 1/np.log(j+2)\n",
        "    return rel\n",
        "\n"
      ],
      "execution_count": null,
      "outputs": []
    },
    {
      "cell_type": "code",
      "metadata": {
        "id": "XC0DnY87f19m",
        "colab_type": "code",
        "colab": {}
      },
      "source": [
        "### creating a complete matrix\n",
        "P,Q = matrix_factorization(full_data , K=10, nsteps=300, alpha=0.001, beta=0.01 )\n",
        "complete_matrix = np.dot(P,Q.T)\n",
        "for i in range(n_users):\n",
        "    percentiles = np.percentile(complete_matrix[i],[20,40,60,80])\n",
        "    for j in range(n_items):\n",
        "        if full_data[i,j] != 0:\n",
        "            complete_matrix[i,j] = full_data[i,j]\n",
        "        else:\n",
        "            if complete_matrix[i,j] < percentiles[0]:\n",
        "                complete_matrix[i,j] = 1\n",
        "            elif complete_matrix[i,j] < percentiles[1]:\n",
        "                complete_matrix[i,j] = 2\n",
        "            elif complete_matrix[i,j] < percentiles[2]:\n",
        "                complete_matrix[i,j] = 3\n",
        "            elif complete_matrix[i,j] < percentiles[3]:\n",
        "                complete_matrix[i,j] = 4\n",
        "            else:\n",
        "                complete_matrix[i,j] = 5\n"
      ],
      "execution_count": null,
      "outputs": []
    },
    {
      "cell_type": "code",
      "metadata": {
        "id": "AuOxg4RDf19p",
        "colab_type": "code",
        "colab": {}
      },
      "source": [
        "def calc_seen_card(user_ratings): ### calculate the cardinality of seen items \n",
        "    i=1\n",
        "    genres_seen = []\n",
        "    for c in user_ratings:\n",
        "        if c !=0:\n",
        "            for g in movie[movie['movieID']==i]['Genre'].item():\n",
        "                if g not in genres_seen:\n",
        "                    genres_seen += [g]\n",
        "        i+=1\n",
        "        \n",
        "    return len(genres_seen)"
      ],
      "execution_count": null,
      "outputs": []
    },
    {
      "cell_type": "code",
      "metadata": {
        "jupyter": {
          "outputs_hidden": true
        },
        "id": "6mJkn1HJf19r",
        "colab_type": "code",
        "colab": {},
        "outputId": "69b32232-afd0-463e-c2f7-cb0dcd23105b"
      },
      "source": [
        " ### run simulations as described in Algorithm 1\n",
        "    \n",
        "seen_genres_all = []\n",
        "\n",
        "for iteration in range(10):\n",
        "    print(iteration)\n",
        "    full_data = np.copy(Reset_data)\n",
        "    seen_genres = []\n",
        "    np.random.seed(iteration)\n",
        "    for it in range(35):\n",
        "        seen_tot = 0\n",
        "        P,Q = matrix_factorization(full_data , K=10, nsteps=300, alpha=0.01, beta=0.1 )\n",
        "        predicted = np.dot(P,Q.T)\n",
        "        selected_data = selection_topn(predicted,10,full_data)\n",
        "        \n",
        "        N,M = selected_data.shape\n",
        "        hit = 0\n",
        "        \n",
        "        for i in range(N):\n",
        "            for j in range(M):\n",
        "                ### If statement controls the relaxation of assumption 3\n",
        "                #if (disc(j+1) * Rel(i,int(selected_data[i,j]),complete_matrix)) > 0.5:\n",
        "                full_data[i,int(selected_data[i,j])] = complete_matrix[i,int(selected_data[i,j])]\n",
        "        \n",
        "        for i in range(N):\n",
        "            user_ratings = full_data[i]\n",
        "            seen = calc_seen_card(user_ratings)\n",
        "            \n",
        "            seen_tot += seen\n",
        "        seen_genres += [seen_tot/N]\n",
        "        print(seen_tot/N)\n",
        "    seen_genres_all += [seen_genres]"
      ],
      "execution_count": null,
      "outputs": [
        {
          "output_type": "stream",
          "text": [
            "0\n",
            "16.1817880794702\n",
            "16.331291390728477\n",
            "16.370860927152318\n",
            "16.391887417218545\n",
            "16.40132450331126\n",
            "16.403973509933774\n",
            "16.407450331125826\n",
            "16.410927152317882\n",
            "16.413079470198674\n",
            "16.41523178807947\n",
            "16.419701986754966\n",
            "16.42301324503311\n",
            "16.423344370860928\n",
            "16.42566225165563\n",
            "16.523675496688742\n",
            "16.573344370860926\n",
            "16.589735099337748\n",
            "16.592549668874174\n",
            "16.593046357615894\n",
            "16.593708609271523\n",
            "16.5976821192053\n",
            "16.601655629139074\n",
            "16.60182119205298\n",
            "16.6023178807947\n",
            "16.60248344370861\n",
            "16.60496688741722\n",
            "16.60496688741722\n",
            "16.606622516556293\n",
            "16.606622516556293\n",
            "16.606622516556293\n",
            "16.61274834437086\n",
            "16.612913907284767\n",
            "16.613576158940397\n",
            "16.613576158940397\n",
            "16.613741721854304\n",
            "1\n",
            "16.178476821192053\n",
            "16.36953642384106\n",
            "16.430298013245032\n",
            "16.44635761589404\n",
            "16.45662251655629\n",
            "16.466556291390727\n",
            "16.520860927152317\n",
            "16.540562913907284\n",
            "16.54586092715232\n",
            "16.547185430463575\n",
            "16.548841059602648\n",
            "16.550165562913907\n",
            "16.55066225165563\n",
            "16.55115894039735\n",
            "16.551324503311257\n",
            "16.553973509933776\n",
            "16.554801324503313\n",
            "16.555132450331126\n",
            "16.55546357615894\n",
            "16.55562913907285\n",
            "16.555794701986756\n",
            "16.55612582781457\n",
            "16.558774834437084\n",
            "16.558774834437084\n",
            "16.558774834437084\n",
            "16.560761589403974\n",
            "16.561423841059604\n",
            "16.56539735099338\n",
            "16.566390728476822\n",
            "16.566721854304635\n",
            "16.566887417218542\n",
            "16.567052980132452\n",
            "16.570364238410598\n",
            "16.571688741721854\n",
            "16.573509933774833\n",
            "2\n",
            "16.317384105960265\n",
            "16.461423841059602\n",
            "16.512417218543046\n",
            "16.535927152317882\n",
            "16.55430463576159\n",
            "16.557615894039735\n",
            "16.559933774834438\n",
            "16.56208609271523\n",
            "16.56407284768212\n",
            "16.564569536423843\n",
            "16.56754966887417\n",
            "16.569205298013244\n",
            "16.569867549668874\n",
            "16.573344370860926\n",
            "16.574668874172186\n",
            "16.576158940397352\n",
            "16.59519867549669\n",
            "16.596192052980133\n",
            "16.60182119205298\n",
            "16.60248344370861\n",
            "16.603973509933773\n",
            "16.605132450331126\n",
            "16.605629139072846\n",
            "16.6067880794702\n",
            "16.6067880794702\n",
            "16.61407284768212\n",
            "16.61407284768212\n",
            "16.615066225165563\n",
            "16.616390728476823\n",
            "16.616390728476823\n",
            "16.61655629139073\n",
            "16.61655629139073\n",
            "16.616887417218543\n",
            "16.616887417218543\n",
            "16.61721854304636\n",
            "3\n",
            "16.177649006622516\n",
            "16.354635761589403\n",
            "16.410596026490065\n",
            "16.441225165562916\n",
            "16.475165562913908\n",
            "16.481953642384106\n",
            "16.486092715231788\n",
            "16.512582781456953\n",
            "16.51407284768212\n",
            "16.51473509933775\n",
            "16.51639072847682\n",
            "16.518708609271524\n",
            "16.52069536423841\n",
            "16.521192052980133\n",
            "16.521688741721853\n",
            "16.522185430463576\n",
            "16.5226821192053\n",
            "16.524006622516556\n",
            "16.524337748344372\n",
            "16.533443708609273\n",
            "16.533774834437086\n",
            "16.5341059602649\n",
            "16.5341059602649\n",
            "16.535596026490065\n",
            "16.535596026490065\n",
            "16.535596026490065\n",
            "16.5364238410596\n",
            "16.536589403973508\n",
            "16.536920529801325\n",
            "16.538245033112585\n",
            "16.539403973509934\n",
            "16.539403973509934\n",
            "16.539403973509934\n",
            "16.53956953642384\n",
            "16.540562913907284\n",
            "4\n",
            "16.151490066225165\n",
            "16.321026490066224\n",
            "16.371026490066225\n",
            "16.386754966887416\n",
            "16.39569536423841\n",
            "16.4\n",
            "16.409933774834435\n",
            "16.440066225165562\n",
            "16.442384105960265\n",
            "16.448344370860926\n",
            "16.5932119205298\n",
            "16.664900662251657\n",
            "16.665397350993377\n",
            "16.854635761589403\n",
            "16.856291390728476\n",
            "16.859437086092715\n",
            "16.86158940397351\n",
            "16.862417218543047\n",
            "16.863245033112584\n",
            "16.865728476821193\n",
            "16.866721854304636\n",
            "16.867549668874172\n",
            "16.867880794701986\n",
            "16.870529801324505\n",
            "16.87069536423841\n",
            "16.87069536423841\n",
            "16.870860927152318\n",
            "16.870860927152318\n",
            "16.87119205298013\n",
            "16.87119205298013\n",
            "16.873013245033114\n",
            "16.873344370860927\n",
            "16.873344370860927\n",
            "16.873344370860927\n",
            "16.87367549668874\n",
            "5\n",
            "16.184437086092714\n",
            "16.360099337748345\n",
            "16.40298013245033\n",
            "16.42152317880795\n",
            "16.428973509933776\n",
            "16.444205298013244\n",
            "16.44635761589404\n",
            "16.45\n",
            "16.46887417218543\n",
            "16.47019867549669\n",
            "16.48592715231788\n",
            "16.486754966887418\n",
            "16.490397350993376\n",
            "16.491225165562913\n",
            "16.493046357615896\n",
            "16.493543046357615\n",
            "16.50182119205298\n",
            "16.503973509933775\n",
            "16.504139072847682\n",
            "16.504470198675495\n",
            "16.504470198675495\n",
            "16.504470198675495\n",
            "16.50496688741722\n",
            "16.505132450331125\n",
            "16.505794701986755\n",
            "16.506125827814568\n",
            "16.506125827814568\n",
            "16.526986754966888\n",
            "16.5273178807947\n",
            "16.529966887417217\n",
            "16.529966887417217\n",
            "16.53046357615894\n",
            "16.530794701986753\n",
            "16.530794701986753\n",
            "16.533443708609273\n",
            "6\n",
            "16.396192052980133\n",
            "16.578973509933775\n",
            "16.64105960264901\n",
            "16.66109271523179\n",
            "16.679470198675496\n",
            "16.68592715231788\n",
            "16.694701986754968\n",
            "16.710761589403972\n",
            "16.71291390728477\n",
            "16.71953642384106\n",
            "16.723013245033112\n",
            "16.728807947019867\n",
            "16.730132450331126\n",
            "16.73245033112583\n",
            "16.733112582781455\n",
            "16.736258278145694\n",
            "16.738079470198677\n",
            "16.741225165562913\n",
            "16.773509933774836\n",
            "16.775\n",
            "16.77566225165563\n",
            "16.776490066225165\n",
            "16.7773178807947\n",
            "16.777483443708608\n",
            "16.777649006622518\n",
            "16.77798013245033\n",
            "16.77798013245033\n",
            "16.778145695364238\n",
            "16.778311258278144\n",
            "16.780132450331127\n",
            "16.780132450331127\n",
            "16.780132450331127\n",
            "16.780132450331127\n",
            "16.780132450331127\n",
            "16.780298013245034\n",
            "7\n",
            "16.19950331125828\n",
            "16.358774834437085\n",
            "16.39950331125828\n",
            "16.46705298013245\n",
            "16.485099337748345\n",
            "16.493543046357615\n",
            "16.50115894039735\n",
            "16.505794701986755\n",
            "16.510099337748343\n",
            "16.581788079470197\n",
            "16.58658940397351\n",
            "16.604635761589403\n",
            "16.621523178807948\n",
            "16.630132450331125\n",
            "16.633940397350994\n",
            "16.635761589403973\n",
            "16.636754966887416\n",
            "16.63907284768212\n",
            "16.639403973509935\n",
            "16.639569536423842\n",
            "16.639569536423842\n",
            "16.642880794701988\n",
            "16.651490066225165\n",
            "16.6523178807947\n",
            "16.652483443708608\n",
            "16.653145695364238\n",
            "16.653807947019867\n",
            "16.653973509933774\n",
            "16.65430463576159\n",
            "16.654635761589404\n",
            "16.655298013245034\n",
            "16.666721854304637\n",
            "16.66705298013245\n",
            "16.667218543046356\n",
            "16.670364238410595\n",
            "8\n",
            "16.16208609271523\n",
            "16.32632450331126\n",
            "16.476655629139074\n",
            "16.624006622516557\n",
            "16.642218543046358\n",
            "16.649834437086092\n",
            "16.652814569536424\n",
            "16.658278145695363\n",
            "16.66274834437086\n",
            "16.66639072847682\n",
            "16.66837748344371\n",
            "16.669867549668876\n",
            "16.671688741721855\n",
            "16.67185430463576\n",
            "16.672185430463575\n",
            "16.67251655629139\n",
            "16.67317880794702\n",
            "16.679139072847683\n",
            "16.680132450331126\n",
            "16.680132450331126\n",
            "16.680298013245032\n",
            "16.680298013245032\n",
            "16.680298013245032\n",
            "16.680298013245032\n",
            "16.680298013245032\n",
            "16.68046357615894\n",
            "16.68046357615894\n",
            "16.69254966887417\n",
            "16.69271523178808\n",
            "16.694039735099338\n",
            "16.695529801324504\n",
            "16.696026490066224\n",
            "16.69751655629139\n",
            "16.697847682119207\n",
            "16.698344370860926\n",
            "9\n",
            "16.183774834437084\n",
            "16.347350993377482\n",
            "16.394205298013244\n",
            "16.429139072847683\n",
            "16.446688741721854\n",
            "16.46837748344371\n",
            "16.473509933774835\n",
            "16.476324503311258\n",
            "16.480794701986756\n",
            "16.48360927152318\n",
            "16.48460264900662\n",
            "16.4864238410596\n",
            "16.48708609271523\n",
            "16.488079470198677\n",
            "16.494205298013245\n",
            "16.50066225165563\n",
            "16.501490066225166\n",
            "16.50314569536424\n",
            "16.50380794701987\n",
            "16.50596026490066\n",
            "16.506788079470198\n",
            "16.50728476821192\n",
            "16.511920529801323\n",
            "16.513079470198676\n",
            "16.5135761589404\n",
            "16.537417218543045\n",
            "16.540728476821194\n",
            "16.542549668874173\n",
            "16.54271523178808\n",
            "16.542880794701986\n",
            "16.542880794701986\n",
            "16.54453642384106\n",
            "16.544701986754966\n",
            "16.55314569536424\n",
            "16.660099337748346\n"
          ],
          "name": "stdout"
        }
      ]
    },
    {
      "cell_type": "code",
      "metadata": {
        "jupyter": {
          "source_hidden": true
        },
        "id": "BFQ5I-Udf19v",
        "colab_type": "code",
        "colab": {}
      },
      "source": [
        "# Saving run results\n",
        "seen_perf_MF = [\n",
        "[16.1817880794702,16.331291390728477\n",
        ",16.370860927152318\n",
        ",16.391887417218545\n",
        ",16.40132450331126\n",
        ",16.403973509933774\n",
        ",16.407450331125826\n",
        ",16.410927152317882\n",
        ",16.413079470198674\n",
        ",16.41523178807947\n",
        ",16.419701986754966\n",
        ",16.42301324503311\n",
        ",16.423344370860928\n",
        ",16.42566225165563\n",
        ",16.523675496688742\n",
        ",16.573344370860926\n",
        ",16.589735099337748\n",
        ",16.592549668874174\n",
        ",16.593046357615894\n",
        ",16.593708609271523\n",
        ",16.5976821192053\n",
        ",16.601655629139074\n",
        ",16.60182119205298\n",
        ",16.6023178807947\n",
        ",16.60248344370861\n",
        ",16.60496688741722\n",
        ",16.60496688741722\n",
        ",16.606622516556293\n",
        ",16.606622516556293\n",
        ",16.606622516556293\n",
        ",16.61274834437086\n",
        ",16.612913907284767\n",
        ",16.613576158940397\n",
        ",16.613576158940397\n",
        ",16.613741721854304]\n",
        ",\n",
        "[16.178476821192053\n",
        ",16.36953642384106\n",
        ",16.430298013245032\n",
        ",16.44635761589404\n",
        ",16.45662251655629\n",
        ",16.466556291390727\n",
        ",16.520860927152317\n",
        ",16.540562913907284\n",
        ",16.54586092715232\n",
        ",16.547185430463575\n",
        ",16.548841059602648\n",
        ",16.550165562913907\n",
        ",16.55066225165563\n",
        ",16.55115894039735\n",
        ",16.551324503311257\n",
        ",16.553973509933776\n",
        ",16.554801324503313\n",
        ",16.555132450331126\n",
        ",16.55546357615894\n",
        ",16.55562913907285\n",
        ",16.555794701986756\n",
        ",16.55612582781457\n",
        ",16.558774834437084\n",
        ",16.558774834437084\n",
        ",16.558774834437084\n",
        ",16.560761589403974\n",
        ",16.561423841059604\n",
        ",16.56539735099338\n",
        ",16.566390728476822\n",
        ",16.566721854304635\n",
        ",16.566887417218542\n",
        ",16.567052980132452\n",
        ",16.570364238410598\n",
        ",16.571688741721854\n",
        ",16.573509933774833]\n",
        ",\n",
        "[16.317384105960265\n",
        ",16.461423841059602\n",
        ",16.512417218543046\n",
        ",16.535927152317882\n",
        ",16.55430463576159\n",
        ",16.557615894039735\n",
        ",16.559933774834438\n",
        ",16.56208609271523\n",
        ",16.56407284768212\n",
        ",16.564569536423843\n",
        ",16.56754966887417\n",
        ",16.569205298013244\n",
        ",16.569867549668874\n",
        ",16.573344370860926\n",
        ",16.574668874172186\n",
        ",16.576158940397352\n",
        ",16.59519867549669\n",
        ",16.596192052980133\n",
        ",16.60182119205298\n",
        ",16.60248344370861\n",
        ",16.603973509933773\n",
        ",16.605132450331126\n",
        ",16.605629139072846\n",
        ",16.6067880794702\n",
        ",16.6067880794702\n",
        ",16.61407284768212\n",
        ",16.61407284768212\n",
        ",16.615066225165563\n",
        ",16.616390728476823\n",
        ",16.616390728476823\n",
        ",16.61655629139073\n",
        ",16.61655629139073\n",
        ",16.616887417218543\n",
        ",16.616887417218543\n",
        ",16.61721854304636]\n",
        ",\n",
        "[16.177649006622516\n",
        ",16.354635761589403\n",
        ",16.410596026490065\n",
        ",16.441225165562916\n",
        ",16.475165562913908\n",
        ",16.481953642384106\n",
        ",16.486092715231788\n",
        ",16.512582781456953\n",
        ",16.51407284768212\n",
        ",16.51473509933775\n",
        ",16.51639072847682\n",
        ",16.518708609271524\n",
        ",16.52069536423841\n",
        ",16.521192052980133\n",
        ",16.521688741721853\n",
        ",16.522185430463576\n",
        ",16.5226821192053\n",
        ",16.524006622516556\n",
        ",16.524337748344372\n",
        ",16.533443708609273\n",
        ",16.533774834437086\n",
        ",16.5341059602649\n",
        ",16.5341059602649\n",
        ",16.535596026490065\n",
        ",16.535596026490065\n",
        ",16.535596026490065\n",
        ",16.5364238410596\n",
        ",16.536589403973508\n",
        ",16.536920529801325\n",
        ",16.538245033112585\n",
        ",16.539403973509934\n",
        ",16.539403973509934\n",
        ",16.539403973509934\n",
        ",16.53956953642384\n",
        ",16.540562913907284]\n",
        ",\n",
        "[16.151490066225165\n",
        ",16.321026490066224\n",
        ",16.371026490066225\n",
        ",16.386754966887416\n",
        ",16.39569536423841\n",
        ",16.4\n",
        ",16.409933774834435\n",
        ",16.440066225165562\n",
        ",16.442384105960265\n",
        ",16.448344370860926\n",
        ",16.5932119205298\n",
        ",16.664900662251657\n",
        ",16.665397350993377\n",
        ",16.854635761589403\n",
        ",16.856291390728476\n",
        ",16.859437086092715\n",
        ",16.86158940397351\n",
        ",16.862417218543047\n",
        ",16.863245033112584\n",
        ",16.865728476821193\n",
        ",16.866721854304636\n",
        ",16.867549668874172\n",
        ",16.867880794701986\n",
        ",16.870529801324505\n",
        ",16.87069536423841\n",
        ",16.87069536423841\n",
        ",16.870860927152318\n",
        ",16.870860927152318\n",
        ",16.87119205298013\n",
        ",16.87119205298013\n",
        ",16.873013245033114\n",
        ",16.873344370860927\n",
        ",16.873344370860927\n",
        ",16.873344370860927\n",
        ",16.87367549668874]\n",
        ",\n",
        "[16.184437086092714\n",
        ",16.360099337748345\n",
        ",16.40298013245033\n",
        ",16.42152317880795\n",
        ",16.428973509933776\n",
        ",16.444205298013244\n",
        ",16.44635761589404\n",
        ",16.45\n",
        ",16.46887417218543\n",
        ",16.47019867549669\n",
        ",16.48592715231788\n",
        ",16.486754966887418\n",
        ",16.490397350993376\n",
        ",16.491225165562913\n",
        ",16.493046357615896\n",
        ",16.493543046357615\n",
        ",16.50182119205298\n",
        ",16.503973509933775\n",
        ",16.504139072847682\n",
        ",16.504470198675495\n",
        ",16.504470198675495\n",
        ",16.504470198675495\n",
        ",16.50496688741722\n",
        ",16.505132450331125\n",
        ",16.505794701986755\n",
        ",16.506125827814568\n",
        ",16.506125827814568\n",
        ",16.526986754966888\n",
        ",16.5273178807947\n",
        ",16.529966887417217\n",
        ",16.529966887417217\n",
        ",16.53046357615894\n",
        ",16.530794701986753\n",
        ",16.530794701986753\n",
        ",16.533443708609273]\n",
        ",\n",
        "[16.396192052980133\n",
        ",16.578973509933775\n",
        ",16.64105960264901\n",
        ",16.66109271523179\n",
        ",16.679470198675496\n",
        ",16.68592715231788\n",
        ",16.694701986754968\n",
        ",16.710761589403972\n",
        ",16.71291390728477\n",
        ",16.71953642384106\n",
        ",16.723013245033112\n",
        ",16.728807947019867\n",
        ",16.730132450331126\n",
        ",16.73245033112583\n",
        ",16.733112582781455\n",
        ",16.736258278145694\n",
        ",16.738079470198677\n",
        ",16.741225165562913\n",
        ",16.773509933774836\n",
        ",16.775\n",
        ",16.77566225165563\n",
        ",16.776490066225165\n",
        ",16.7773178807947\n",
        ",16.777483443708608\n",
        ",16.777649006622518\n",
        ",16.77798013245033\n",
        ",16.77798013245033\n",
        ",16.778145695364238\n",
        ",16.778311258278144\n",
        ",16.780132450331127\n",
        ",16.780132450331127\n",
        ",16.780132450331127\n",
        ",16.780132450331127\n",
        ",16.780132450331127\n",
        ",16.780298013245034]\n",
        ",\n",
        "[16.19950331125828\n",
        ",16.358774834437085\n",
        ",16.39950331125828\n",
        ",16.46705298013245\n",
        ",16.485099337748345\n",
        ",16.493543046357615\n",
        ",16.50115894039735\n",
        ",16.505794701986755\n",
        ",16.510099337748343\n",
        ",16.581788079470197\n",
        ",16.58658940397351\n",
        ",16.604635761589403\n",
        ",16.621523178807948\n",
        ",16.630132450331125\n",
        ",16.633940397350994\n",
        ",16.635761589403973\n",
        ",16.636754966887416\n",
        ",16.63907284768212\n",
        ",16.639403973509935\n",
        ",16.639569536423842\n",
        ",16.639569536423842\n",
        ",16.642880794701988\n",
        ",16.651490066225165\n",
        ",16.6523178807947\n",
        ",16.652483443708608\n",
        ",16.653145695364238\n",
        ",16.653807947019867\n",
        ",16.653973509933774\n",
        ",16.65430463576159\n",
        ",16.654635761589404\n",
        ",16.655298013245034\n",
        ",16.666721854304637\n",
        ",16.66705298013245\n",
        ",16.667218543046356\n",
        ",16.670364238410595]\n",
        ",\n",
        "[16.16208609271523\n",
        ",16.32632450331126\n",
        ",16.476655629139074\n",
        ",16.624006622516557\n",
        ",16.642218543046358\n",
        ",16.649834437086092\n",
        ",16.652814569536424\n",
        ",16.658278145695363\n",
        ",16.66274834437086\n",
        ",16.66639072847682\n",
        ",16.66837748344371\n",
        ",16.669867549668876\n",
        ",16.671688741721855\n",
        ",16.67185430463576\n",
        ",16.672185430463575\n",
        ",16.67251655629139\n",
        ",16.67317880794702\n",
        ",16.679139072847683\n",
        ",16.680132450331126\n",
        ",16.680132450331126\n",
        ",16.680298013245032\n",
        ",16.680298013245032\n",
        ",16.680298013245032\n",
        ",16.680298013245032\n",
        ",16.680298013245032\n",
        ",16.68046357615894\n",
        ",16.68046357615894\n",
        ",16.69254966887417\n",
        ",16.69271523178808\n",
        ",16.694039735099338\n",
        ",16.695529801324504\n",
        ",16.696026490066224\n",
        ",16.69751655629139\n",
        ",16.697847682119207\n",
        ",16.698344370860926]\n",
        ",\n",
        "[16.183774834437084\n",
        ",16.347350993377482\n",
        ",16.394205298013244\n",
        ",16.429139072847683\n",
        ",16.446688741721854\n",
        ",16.46837748344371\n",
        ",16.473509933774835\n",
        ",16.476324503311258\n",
        ",16.480794701986756\n",
        ",16.48360927152318\n",
        ",16.48460264900662\n",
        ",16.4864238410596\n",
        ",16.48708609271523\n",
        ",16.488079470198677\n",
        ",16.494205298013245\n",
        ",16.50066225165563\n",
        ",16.501490066225166\n",
        ",16.50314569536424\n",
        ",16.50380794701987\n",
        ",16.50596026490066\n",
        ",16.506788079470198\n",
        ",16.50728476821192\n",
        ",16.511920529801323,16.513079470198676,16.5135761589404,16.537417218543045,16.540728476821194,16.542549668874173,16.54271523178808,16.542880794701986,16.542880794701986,16.54453642384106,16.544701986754966,16.55314569536424,16.660099337748346]]"
      ],
      "execution_count": null,
      "outputs": []
    },
    {
      "cell_type": "code",
      "metadata": {
        "id": "4otOa9fdf190",
        "colab_type": "code",
        "colab": {}
      },
      "source": [
        "max_seen = [18 for i in  range(35)]\n",
        "min_seen = [0 for i in range(35) ]"
      ],
      "execution_count": null,
      "outputs": []
    },
    {
      "cell_type": "code",
      "metadata": {
        "id": "nc4cBZSqf193",
        "colab_type": "code",
        "colab": {},
        "outputId": "9cf59772-d29c-4272-9007-e29853d253f3"
      },
      "source": [
        "iterations = range(35)\n",
        "\n",
        "plt.plot(iterations , (np.mean(seen_perf,0)),'-v',label = '|S(t)|')\n",
        "plt.fill_between(iterations,min_seen, (np.mean(seen_perf,0)), hatch = '/' ,alpha = 0.3,label = 'Seen_groups S(t)')\n",
        "plt.fill_between(iterations,(np.mean(seen_perf,0)), max_seen, alpha = 0.3,label = 'Blind Spot B(t)')\n",
        "\n",
        "plt.xlabel('iterations')\n",
        "plt.ylabel('Number of groups')\n",
        "plt.legend(loc='upper right')\n",
        "plt.title('Evolution of the number of seen groups and blind spot \\n through iterations with perfect feedback assumption')\n",
        "\n",
        "\n",
        "plt.show()\n"
      ],
      "execution_count": null,
      "outputs": [
        {
          "output_type": "display_data",
          "data": {
            "image/png": "[encoded data removed]",
            "text/plain": [
              "<Figure size 432x288 with 1 Axes>"
            ]
          },
          "metadata": {
            "tags": [],
            "needs_background": "light"
          }
        }
      ]
    },
    {
      "cell_type": "code",
      "metadata": {
        "id": "_rSdOKA0f196",
        "colab_type": "code",
        "colab": {}
      },
      "source": [
        "import scipy.stats as st\n",
        "\n",
        "def get_CI(results): ### get 95% CI\n",
        "    array = results\n",
        "    array = np.array(array)\n",
        "    CI = []\n",
        "    for i in range(array.shape[1]):\n",
        "        a = array[:,i]\n",
        "        CL,CU = st.t.interval(0.95, len(a)-1, loc=np.mean(a), scale=st.sem(a))\n",
        "        CI = CI + [[CL,CU]]\n",
        "    return np.array(CI)\n"
      ],
      "execution_count": null,
      "outputs": []
    },
    {
      "cell_type": "code",
      "metadata": {
        "id": "I00ktthEf199",
        "colab_type": "code",
        "colab": {}
      },
      "source": [
        "# calculate Delta S (one run as a test)\n",
        "delta_perf_MF = [(np.mean(seen_perf_MF,0))[i+1] - (np.mean(seen_perf_MF,0))[i] for i in range(len((np.mean(seen_perf_MF,0)))-1)]"
      ],
      "execution_count": null,
      "outputs": []
    },
    {
      "cell_type": "code",
      "metadata": {
        "id": "Fr_yhsu_f1-A",
        "colab_type": "code",
        "colab": {}
      },
      "source": [
        "seen_genres_all_array_perf_MF = np.array(seen_perf_MF)"
      ],
      "execution_count": null,
      "outputs": []
    },
    {
      "cell_type": "code",
      "metadata": {
        "id": "qlPwAzypf1-C",
        "colab_type": "code",
        "colab": {}
      },
      "source": [
        "delta_all_perf_MF = [(seen_genres_all_array_perf_MF)[:,i+1] - ((seen_genres_all_array_perf_MF))[:,i] for i in range(len(seen_genres_all_array_perf_MF[:,0])-1)]"
      ],
      "execution_count": null,
      "outputs": []
    },
    {
      "cell_type": "code",
      "metadata": {
        "id": "Iy71PNKlf1-F",
        "colab_type": "code",
        "colab": {}
      },
      "source": [
        "# calculate Delta S\n",
        "\n",
        "delta_all_perf_MF = []\n",
        "for j in range(len(seen_genres_all_array_perf)):\n",
        "    delta_all_perf_MF += [[(seen_genres_all_array_perf_MF)[j,i+1] - ((seen_genres_all_array_perf_MF))[j,i] for i in range(len(seen_genres_all_array_perf_MF[0])-1)]]"
      ],
      "execution_count": null,
      "outputs": []
    },
    {
      "cell_type": "code",
      "metadata": {
        "id": "XNM25haJf1-I",
        "colab_type": "code",
        "colab": {}
      },
      "source": [
        "delta_CI_perf_MF = get_CI(delta_all_perf_MF) ## get CI from all runs\n"
      ],
      "execution_count": null,
      "outputs": []
    },
    {
      "cell_type": "code",
      "metadata": {
        "id": "az3RYGNif1-L",
        "colab_type": "code",
        "colab": {}
      },
      "source": [
        "def bound(iteration,delta): ### Theoretical bound\n",
        "    return((np.log(1/delta) * 10 * 10)/(2 * iteration))"
      ],
      "execution_count": null,
      "outputs": []
    },
    {
      "cell_type": "code",
      "metadata": {
        "id": "6S25syCXf1-P",
        "colab_type": "code",
        "colab": {}
      },
      "source": [
        "x = np.array([i+1 for i in range(34)])\n",
        "y1 = bound(x,0.95)\n",
        "y2 = bound(x,0.98)"
      ],
      "execution_count": null,
      "outputs": []
    },
    {
      "cell_type": "code",
      "metadata": {
        "id": "xOwWhi2-f1-R",
        "colab_type": "code",
        "colab": {},
        "outputId": "4b6f60e6-784a-4765-aec5-dc1a58425980"
      },
      "source": [
        "iterations = range(34)\n",
        "\n",
        "plt.plot(iterations , delta_perf,'-',label = '|Delta Sn|')\n",
        "plt.fill_between(iterations, delta_CI_perf[:,0], delta_CI_perf[:,1], color = '#539caf', alpha = 0.4, label = '95% CI')\n",
        "plt.plot(iterations , y1,'-*',label = 'Theoretical Bound for delta = 0.95')\n",
        "plt.plot(iterations , y2,'-+',label = 'Theoretical Bound for delta = 0.98')\n",
        "\n",
        "plt.xlabel('iterations')\n",
        "plt.ylabel('Delta |Sn|')\n",
        "plt.legend(loc='upper right')\n",
        "plt.title('Comparing average user discovery to theoretical \\n bounds with perfect feedback')\n",
        "\n",
        "\n",
        "plt.show()\n"
      ],
      "execution_count": null,
      "outputs": [
        {
          "output_type": "display_data",
          "data": {
            "image/png": "[encoded data removed]",
            "text/plain": [
              "<Figure size 432x288 with 1 Axes>"
            ]
          },
          "metadata": {
            "tags": [],
            "needs_background": "light"
          }
        }
      ]
    },
    {
      "cell_type": "code",
      "metadata": {
        "id": "mSYiVQpDf1-V",
        "colab_type": "code",
        "colab": {},
        "outputId": "90798ec5-fc38-4247-85af-0bf8022974c7"
      },
      "source": [
        "iterations = range(34)\n",
        "\n",
        "\n",
        "\n",
        "plt.plot(iterations , delta_perf,'-',label = '|Delta Sn|')\n",
        "plt.fill_between(iterations, delta_CI_perf[:,0], delta_CI_perf[:,1], color = '#539caf', alpha = 0.4, label = '95% CI')\n",
        "\n",
        "plt.xlabel('iterations')\n",
        "plt.ylabel('Delta |Sn|')\n",
        "plt.legend(loc='upper right')\n",
        "plt.title('Evolution of the average user discovery through iterations \\n with perfect feedback assumption')\n",
        "\n",
        "\n",
        "plt.show()\n"
      ],
      "execution_count": null,
      "outputs": [
        {
          "output_type": "display_data",
          "data": {
            "image/png": "[encoded data removed]",
            "text/plain": [
              "<Figure size 432x288 with 1 Axes>"
            ]
          },
          "metadata": {
            "tags": [],
            "needs_background": "light"
          }
        }
      ]
    },
    {
      "cell_type": "code",
      "metadata": {
        "collapsed": true,
        "jupyter": {
          "outputs_hidden": true
        },
        "id": "ruHjXBwtf1-X",
        "colab_type": "code",
        "colab": {},
        "outputId": "4ffcbc72-1157-4bf1-f967-bc3a66f04f35"
      },
      "source": [
        "seen_genres_all = []\n",
        "## relaxation experiment\n",
        "for iteration in range(5):\n",
        "    print(iteration)\n",
        "    full_data = np.copy(Reset_data)\n",
        "    full_data2 = np.copy(Reset_data)\n",
        "\n",
        "    seen_genres = []\n",
        "    np.random.seed(iteration)\n",
        "    for it in range(35):\n",
        "        seen_tot = 0\n",
        "        P,Q = matrix_factorization(full_data , K=10, nsteps=300, alpha=0.01, beta=0.1 )\n",
        "        predicted = np.dot(P,Q.T)\n",
        "        selected_data = selection_topn(predicted,10,full_data)\n",
        "        \n",
        "        N,M = selected_data.shape\n",
        "        hit = 0\n",
        "        \n",
        "        for i in range(N):\n",
        "            for j in range(M):\n",
        "                if (disc(j+1) * Rel(i,int(selected_data[i,j]),complete_matrix)) > 0.5:\n",
        "                    full_data[i,int(selected_data[i,j])] = complete_matrix[i,int(selected_data[i,j])]\n",
        "                    \n",
        "        for i in range(N):\n",
        "            for j in range(M):\n",
        "                full_data2[i,int(selected_data[i,j])] = complete_matrix[i,int(selected_data[i,j])]\n",
        "\n",
        "        for i in range(N):\n",
        "            user_ratings = full_data2[i]\n",
        "            seen = calc_seen_card(user_ratings)\n",
        "            \n",
        "            seen_tot += seen\n",
        "        seen_genres += [seen_tot/N]\n",
        "        print(seen_tot/N)\n",
        "    seen_genres_all += [seen_genres]"
      ],
      "execution_count": null,
      "outputs": [
        {
          "output_type": "stream",
          "text": [
            "0\n",
            "16.136754966887416\n",
            "16.46324503311258\n",
            "16.500165562913907\n",
            "16.51158940397351\n",
            "16.519701986754967\n",
            "16.52864238410596\n",
            "16.55844370860927\n",
            "16.571523178807947\n",
            "16.57814569536424\n",
            "16.580132450331124\n",
            "16.580794701986754\n",
            "16.58162251655629\n",
            "16.585596026490066\n",
            "16.594701986754966\n",
            "16.595529801324503\n",
            "16.59701986754967\n",
            "16.6158940397351\n",
            "16.62615894039735\n",
            "16.62682119205298\n",
            "16.627152317880796\n",
            "16.627814569536422\n",
            "16.628311258278146\n",
            "16.628311258278146\n",
            "16.63046357615894\n",
            "16.6341059602649\n",
            "16.63543046357616\n",
            "16.636092715231786\n",
            "16.636754966887416\n",
            "16.64006622516556\n",
            "16.640562913907285\n",
            "16.643377483443707\n",
            "16.643543046357617\n",
            "16.643708609271524\n",
            "16.644039735099337\n",
            "16.64519867549669\n",
            "1\n",
            "16.1385761589404\n",
            "16.283774834437086\n",
            "16.36771523178808\n",
            "16.379801324503312\n",
            "16.386920529801323\n",
            "16.39453642384106\n",
            "16.39701986754967\n",
            "16.398013245033113\n",
            "16.399668874172185\n",
            "16.400827814569535\n",
            "16.40132450331126\n",
            "16.402152317880795\n",
            "16.402649006622518\n",
            "16.403311258278144\n",
            "16.404470198675497\n",
            "16.405298013245034\n",
            "16.405794701986753\n",
            "16.40728476821192\n",
            "16.4114238410596\n",
            "16.413576158940398\n",
            "16.42152317880795\n",
            "16.427152317880793\n",
            "16.42864238410596\n",
            "16.439238410596026\n",
            "16.441887417218542\n",
            "16.460264900662253\n",
            "16.460264900662253\n",
            "16.461423841059602\n",
            "16.461920529801326\n",
            "16.462582781456955\n",
            "16.463410596026492\n",
            "16.4635761589404\n",
            "16.483278145695365\n",
            "16.48493377483444\n",
            "16.488576158940397\n",
            "2\n",
            "16.307615894039735\n",
            "16.498013245033114\n",
            "16.551490066225167\n",
            "16.57450331125828\n",
            "16.586754966887415\n",
            "16.59023178807947\n",
            "16.60480132450331\n",
            "16.607119205298012\n",
            "16.609437086092715\n",
            "16.62566225165563\n",
            "16.632450331125828\n",
            "16.634437086092714\n",
            "16.638079470198676\n",
            "16.64006622516556\n",
            "16.641721854304635\n",
            "16.64271523178808\n",
            "16.64271523178808\n",
            "16.652814569536424\n",
            "16.653145695364238\n",
            "16.65364238410596\n",
            "16.659933774834435\n",
            "16.660099337748346\n",
            "16.660761589403972\n",
            "16.660761589403972\n",
            "16.66705298013245\n",
            "16.667218543046356\n",
            "16.67748344370861\n",
            "16.67930463576159\n",
            "16.72086092715232\n",
            "16.724006622516555\n",
            "16.725165562913908\n",
            "16.72682119205298\n",
            "16.72748344370861\n",
            "16.72980132450331\n",
            "16.7317880794702\n",
            "3\n",
            "16.173344370860928\n",
            "16.296026490066225\n",
            "16.33609271523179\n",
            "16.35364238410596\n",
            "16.376490066225166\n",
            "16.5\n",
            "16.50314569536424\n",
            "16.528807947019867\n",
            "16.538245033112585\n",
            "16.540562913907284\n",
            "16.588410596026492\n",
            "16.589072847682118\n",
            "16.589238410596028\n",
            "16.589900662251654\n",
            "16.593543046357617\n",
            "16.603145695364237\n",
            "16.603807947019867\n",
            "16.63294701986755\n",
            "16.63476821192053\n",
            "16.635596026490067\n",
            "16.644701986754967\n",
            "16.645529801324503\n",
            "16.64635761589404\n",
            "16.647847682119206\n",
            "16.64817880794702\n",
            "16.649337748344372\n",
            "16.650496688741722\n",
            "16.650496688741722\n",
            "16.65182119205298\n",
            "16.675165562913907\n",
            "16.68344370860927\n",
            "16.684437086092714\n",
            "16.68460264900662\n",
            "16.684933774834438\n",
            "16.68526490066225\n",
            "4\n",
            "16.188907284768213\n",
            "16.374503311258277\n",
            "16.413079470198674\n",
            "16.427649006622516\n",
            "16.435099337748344\n",
            "16.44254966887417\n",
            "16.521523178807946\n",
            "16.52516556291391\n",
            "16.52798013245033\n",
            "16.52864238410596\n",
            "16.529966887417217\n",
            "16.550165562913907\n",
            "16.55298013245033\n",
            "16.56291390728477\n",
            "16.566225165562916\n",
            "16.567052980132452\n",
            "16.56771523178808\n",
            "16.580629139072848\n",
            "16.580794701986754\n",
            "16.580794701986754\n",
            "16.581953642384107\n",
            "16.581953642384107\n",
            "16.595033112582783\n",
            "16.595033112582783\n",
            "16.59519867549669\n",
            "16.59519867549669\n",
            "16.59519867549669\n",
            "16.595529801324503\n",
            "16.623013245033114\n",
            "16.62317880794702\n",
            "16.623344370860927\n",
            "16.625\n",
            "16.625165562913907\n",
            "16.625331125827813\n",
            "16.625331125827813\n"
          ],
          "name": "stdout"
        }
      ]
    },
    {
      "cell_type": "code",
      "metadata": {
        "id": "BZ6q-Zitf1-a",
        "colab_type": "code",
        "colab": {}
      },
      "source": [
        "delta_all = []\n",
        "seen_genres_all_array = np.array(seen_genres_all)\n",
        "for j in range(len(seen_genres_all_array)):\n",
        "    delta_all += [[(seen_genres_all_array)[j,i+1] - ((seen_genres_all_array))[j,i] for i in range(len(seen_genres_all_array[0])-1)]]"
      ],
      "execution_count": null,
      "outputs": []
    },
    {
      "cell_type": "code",
      "metadata": {
        "id": "Ws356l0Pf1-c",
        "colab_type": "code",
        "colab": {}
      },
      "source": [
        "delta_CI = get_CI(delta_all)\n"
      ],
      "execution_count": null,
      "outputs": []
    },
    {
      "cell_type": "code",
      "metadata": {
        "id": "Tg5U7JqJf1-g",
        "colab_type": "code",
        "colab": {},
        "outputId": "de14450e-8226-46b1-8f56-c1e257a32d90"
      },
      "source": [
        "iterations = range(34)\n",
        "\n",
        "\n",
        "delta = [(np.mean(seen_genres_all,0))[i+1] - (np.mean(seen_genres_all,0))[i] for i in range(len((np.mean(seen_genres_all,0)))-1)]\n",
        "\n",
        "plt.plot(iterations , delta,'-',label = '|Delta Sn|')\n",
        "plt.fill_between(iterations, delta_CI[:,0], delta_CI[:,1], color = '#539caf', alpha = 0.4, label = '95% CI')\n",
        "\n",
        "\n",
        "plt.xlabel('iterations')\n",
        "plt.ylabel('Delta |Sn|')\n",
        "plt.legend(loc='upper right')\n",
        "plt.title('Evolution of the average user discovery \\n with imperfect feedback')\n",
        "\n",
        "\n",
        "plt.show()\n"
      ],
      "execution_count": null,
      "outputs": [
        {
          "output_type": "display_data",
          "data": {
            "image/png": "[encoded data removed]",
            "text/plain": [
              "<Figure size 432x288 with 1 Axes>"
            ]
          },
          "metadata": {
            "tags": [],
            "needs_background": "light"
          }
        }
      ]
    },
    {
      "cell_type": "code",
      "metadata": {
        "id": "ZZOHm3JVf1-j",
        "colab_type": "code",
        "colab": {},
        "outputId": "934cac09-4590-43d4-c2cf-7ad435cc6835"
      },
      "source": [
        "iterations = range(34)\n",
        "\n",
        "plt.plot(iterations , delta,'-',label = '|Delta Sn|')\n",
        "plt.fill_between(iterations, delta_CI[:,0], delta_CI[:,1], color = '#539caf', alpha = 0.4, label = '95& CI')\n",
        "plt.plot(iterations , y1,'-*',label = 'Theoretical Bound for delta = 0.95')\n",
        "plt.plot(iterations , y2,'-+',label = 'Theoretical Bound for delta = 0.98')\n",
        "\n",
        "plt.xlabel('iterations')\n",
        "plt.ylabel('Delta |Sn|')\n",
        "plt.legend(loc='upper right')\n",
        "plt.title('Comparing average user discovery  to theoretical \\n bounds with imperfect feedback')\n",
        "\n",
        "\n",
        "plt.show()\n"
      ],
      "execution_count": null,
      "outputs": [
        {
          "output_type": "display_data",
          "data": {
            "image/png": "[encoded data removed]",
            "text/plain": [
              "<Figure size 432x288 with 1 Axes>"
            ]
          },
          "metadata": {
            "tags": [],
            "needs_background": "light"
          }
        }
      ]
    },
    {
      "cell_type": "code",
      "metadata": {
        "id": "Yv5lZx4qf1-l",
        "colab_type": "code",
        "colab": {}
      },
      "source": [
        "font = {'family' : 'normal',\n",
        "        'weight' : 'normal',\n",
        "        'size'   : 13}\n",
        "\n",
        "matplotlib.rc('font', **font)\n"
      ],
      "execution_count": null,
      "outputs": []
    },
    {
      "cell_type": "code",
      "metadata": {
        "id": "-60rq-qDf1-m",
        "colab_type": "code",
        "colab": {},
        "outputId": "43e2eb3d-77d8-4e5b-c23c-4c2e4c96a69f"
      },
      "source": [
        "iterations = range(35)\n",
        "\n",
        "plt.plot(iterations , (np.mean(seen_genres_all,0)),'-v',label = '|S(t)|')\n",
        "plt.fill_between(iterations,min_seen, (np.mean(seen_genres_all,0)),alpha = 0.3,hatch = '/',label = 'Seen_groups S(t)')\n",
        "plt.fill_between(iterations,(np.mean(seen_genres_all,0)), max_seen, alpha = 0.3,label = 'Blind Spot B(t)')\n",
        "\n",
        "plt.xlabel('iterations')\n",
        "plt.ylabel('Number of groups')\n",
        "plt.legend(loc='upper right')\n",
        "plt.title('Evolution of the number of seen groups and \\n blind spot  with imperfect feedback')\n",
        "\n",
        "\n",
        "plt.show()\n"
      ],
      "execution_count": null,
      "outputs": [
        {
          "output_type": "display_data",
          "data": {
            "image/png": "[encoded data removed]",
            "text/plain": [
              "<Figure size 432x288 with 1 Axes>"
            ]
          },
          "metadata": {
            "tags": [],
            "needs_background": "light"
          }
        }
      ]
    },
    {
      "cell_type": "markdown",
      "metadata": {
        "id": "V4OweDe_mi9J",
        "colab_type": "text"
      },
      "source": [
        "# Introducing a Multi-Armed Bandits strategy"
      ]
    },
    {
      "cell_type": "code",
      "metadata": {
        "id": "O1H9vSVHnX2k",
        "colab_type": "code",
        "colab": {}
      },
      "source": [
        "### creating a complete matrix\n",
        "P,Q = matrix_factorization(full_data , K=10, nsteps=300, alpha=0.001, beta=0.01 )\n",
        "complete_matrix = np.dot(P,Q.T)\n",
        "for i in range(n_users):\n",
        "    percentiles = np.percentile(complete_matrix[i],[20,40,60,80])\n",
        "    for j in range(n_items):\n",
        "        if full_data[i,j] != 0:\n",
        "            complete_matrix[i,j] = full_data[i,j]\n",
        "        else:\n",
        "            if complete_matrix[i,j] < percentiles[0]:\n",
        "                complete_matrix[i,j] = 1\n",
        "            elif complete_matrix[i,j] < percentiles[1]:\n",
        "                complete_matrix[i,j] = 2\n",
        "            elif complete_matrix[i,j] < percentiles[2]:\n",
        "                complete_matrix[i,j] = 3\n",
        "            elif complete_matrix[i,j] < percentiles[3]:\n",
        "                complete_matrix[i,j] = 4\n",
        "            else:\n",
        "                complete_matrix[i,j] = 5\n"
      ],
      "execution_count": null,
      "outputs": []
    },
    {
      "cell_type": "code",
      "metadata": {
        "id": "xC1ImdBmRcjV",
        "colab_type": "code",
        "colab": {}
      },
      "source": [
        "def selection_topn_rand(predicted,n,start_data,p): # Calculate the list of n recommended items with a multi armed bandits exploration\n",
        "    number_random = int(n * p)\n",
        "    number_rec = n - number_random\n",
        "    n_users,n_items = predicted.shape\n",
        "    selection = np.zeros(shape=(n_users,n))\n",
        "    for i in range(n_users):\n",
        "      for j in range(n_items):\n",
        "        if start_data[i,j] !=0:\n",
        "          predicted[i,j] = 0\n",
        "      sorted = np.argsort(-predicted[i])\n",
        "      top_n = sorted[0:number_rec]\n",
        "      random = np.random.choice(sorted[number_rec+1:],number_random)\n",
        "      top_n = top_n.tolist() + random.tolist()\n",
        "      selection[i] = top_n\n",
        "    return selection\n"
      ],
      "execution_count": null,
      "outputs": []
    },
    {
      "cell_type": "code",
      "metadata": {
        "id": "5kAS4S3PKLIN",
        "colab_type": "code",
        "colab": {}
      },
      "source": [
        "## performing the same experiments\n",
        "seen_genres_all = []\n",
        "\n",
        "for iteration in range(10):\n",
        "  print(iteration)\n",
        "  full_data = np.copy(Reset_data)\n",
        "  seen_genres = []\n",
        "  np.random.seed(iteration)\n",
        "  for it in range(25):\n",
        "    seen_tot = 0\n",
        "    P,Q = matrix_factorization(full_data , K=10, nsteps=300, alpha=0.01, beta=0.1 )\n",
        "    predicted = np.dot(P,Q.T)\n",
        "    selected_data = selection_topn_rand(predicted,10,full_data,0.1)\n",
        "    \n",
        "    N,M = selected_data.shape\n",
        "    hit = 0\n",
        "    for i in range(N):\n",
        "      for j in range(M):\n",
        "        ### If statement controls the relaxation of assumption 3\n",
        "        #if (disc(j+1) * Rel(i,int(selected_data[i,j]),complete_matrix)) > 0.5:\n",
        "        full_data[i,int(selected_data[i,j])] = complete_matrix[i,int(selected_data[i,j])]\n",
        "    \n",
        "    for i in range(N):\n",
        "      user_ratings = full_data[i]\n",
        "      seen = calc_seen_card(user_ratings)\n",
        "      \n",
        "      seen_tot += seen\n",
        "    seen_genres += [seen_tot/N]\n",
        "    print(seen_tot/N)\n",
        "  seen_genres_all += [seen_genres]"
      ],
      "execution_count": null,
      "outputs": []
    },
    {
      "cell_type": "code",
      "metadata": {
        "id": "4zzWltu3oNYM",
        "colab_type": "code",
        "colab": {}
      },
      "source": [
        "delta_all = []\n",
        "seen_genres_all_array = np.array(seen_genres_all)\n",
        "for j in range(len(seen_genres_all_array)):\n",
        "    delta_all += [[(seen_genres_all_array)[j,i+1] - ((seen_genres_all_array))[j,i] for i in range(len(seen_genres_all_array[0])-1)]]"
      ],
      "execution_count": null,
      "outputs": []
    },
    {
      "cell_type": "code",
      "metadata": {
        "id": "blN79_rPoevr",
        "colab_type": "code",
        "colab": {}
      },
      "source": [
        "max_seen = [19 for i in  range(25)]\n",
        "min_seen = [0 for i in range(25) ]"
      ],
      "execution_count": null,
      "outputs": []
    },
    {
      "cell_type": "code",
      "metadata": {
        "id": "TKviCtPnofdb",
        "colab_type": "code",
        "colab": {}
      },
      "source": [
        "iterations = range(25)\n",
        "\n",
        "plt.plot(iterations , (np.mean(seen_perf,0)),'-v',label = '|S(t)|')\n",
        "plt.fill_between(iterations,min_seen, (np.mean(seen_perf,0)), hatch = '/' ,alpha = 0.3,label = 'Seen_groups S(t)')\n",
        "plt.fill_between(iterations,(np.mean(seen_perf,0)), max_seen, alpha = 0.3,label = 'Blind Spot B(t)')\n",
        "\n",
        "plt.xlabel('iterations')\n",
        "plt.ylabel('Number of groups')\n",
        "plt.legend(loc='upper right')\n",
        "plt.title('Evolution of the number of seen groups and blind spot \\n through iterations using a 0.1-greedy MAB Recommendation strategy')\n",
        "\n",
        "\n",
        "plt.show()\n"
      ],
      "execution_count": null,
      "outputs": []
    },
    {
      "cell_type": "code",
      "metadata": {
        "id": "MoAZkQ7po2Q0",
        "colab_type": "code",
        "colab": {}
      },
      "source": [
        "# calculate Delta S (one run as a test)\n",
        "delta_perf = [(np.mean(seen_perf,0))[i+1] - (np.mean(seen_perf,0))[i] for i in range(len((np.mean(seen_perf,0)))-1)]\n",
        "seen_genres_all_array_perf = np.array(seen_perf)\n",
        "delta_all_perf = [(seen_genres_all_array_perf)[:,i+1] - ((seen_genres_all_array_perf))[:,i] for i in range(len(seen_genres_all_array_perf[:,0])-1)]\n",
        "delta_all_perf = []\n",
        "for j in range(len(seen_genres_all_array_perf)):\n",
        "    delta_all_perf += [[(seen_genres_all_array_perf)[j,i+1] - ((seen_genres_all_array_perf))[j,i] for i in range(len(seen_genres_all_array_perf[0])-1)]]\n",
        "\n",
        "delta_CI_perf = get_CI(delta_all_perf) ## get CI from all runs\n"
      ],
      "execution_count": null,
      "outputs": []
    },
    {
      "cell_type": "code",
      "metadata": {
        "id": "GZmOUlDBprFk",
        "colab_type": "code",
        "colab": {}
      },
      "source": [
        "x = np.array([i+1 for i in range(24)])\n",
        "y1 = bound(x,0.95)\n",
        "y2 = bound(x,0.98)"
      ],
      "execution_count": null,
      "outputs": []
    },
    {
      "cell_type": "code",
      "metadata": {
        "id": "pQS6vIm1p_TI",
        "colab_type": "code",
        "colab": {}
      },
      "source": [
        "for iteration in range(10): #### 20% exploration strategy\n",
        "  print(iteration)\n",
        "  full_data = np.copy(Reset_data)\n",
        "  seen_genres = []\n",
        "  np.random.seed(iteration)\n",
        "  for it in range(25):\n",
        "    seen_tot = 0\n",
        "    P,Q = matrix_factorization(full_data , K=10, nsteps=300, alpha=0.01, beta=0.1 )\n",
        "    predicted = np.dot(P,Q.T)\n",
        "    selected_data = selection_topn_rand(predicted,10,full_data,0.2)\n",
        "    \n",
        "    N,M = selected_data.shape\n",
        "    hit = 0\n",
        "    for i in range(N):\n",
        "      for j in range(M):\n",
        "        ### If statement controls the relaxation of assumption 3\n",
        "        #if (disc(j+1) * Rel(i,int(selected_data[i,j]),complete_matrix)) > 0.5:\n",
        "        full_data[i,int(selected_data[i,j])] = complete_matrix[i,int(selected_data[i,j])]\n",
        "    \n",
        "    for i in range(N):\n",
        "      user_ratings = full_data[i]\n",
        "      seen = calc_seen_card(user_ratings)\n",
        "      \n",
        "      seen_tot += seen\n",
        "    seen_genres += [seen_tot/N]\n",
        "    print(',',seen_tot/N)\n",
        "  seen_genres_all += [seen_genres]"
      ],
      "execution_count": null,
      "outputs": []
    },
    {
      "cell_type": "code",
      "metadata": {
        "id": "TMdsIUc-Dz3c",
        "colab_type": "code",
        "colab": {
          "base_uri": "https://localhost:8080/",
          "height": 85
        },
        "outputId": "de5872d4-e51a-439c-e845-fedbf933c2b5"
      },
      "source": [
        "# calculate Delta S (one run as a test)\n",
        "delta_perf_3 = [(np.mean(seen_perf_3,0))[i+1] - (np.mean(seen_perf_3,0))[i] for i in range(len((np.mean(seen_perf_3,0)))-1)]\n",
        "seen_genres_all_array_perf_3 = np.array(seen_perf_3)\n",
        "delta_all_perf_3 = [(seen_genres_all_array_perf_3)[:,i+1] - ((seen_genres_all_array_perf_3))[:,i] for i in range(len(seen_genres_all_array_perf_3[:,0])-1)]\n",
        "delta_all_perf_3 = []\n",
        "for j in range(len(seen_genres_all_array_perf_3)):\n",
        "    delta_all_perf_3 += [[(seen_genres_all_array_perf_3)[j,i+1] - ((seen_genres_all_array_perf_3))[j,i] for i in range(len(seen_genres_all_array_perf_3[0])-1)]]\n",
        "\n",
        "delta_CI_perf_3 = get_CI(delta_all_perf_3) ## get CI from all runs\n"
      ],
      "execution_count": null,
      "outputs": [
        {
          "output_type": "stream",
          "text": [
            "/usr/local/lib/python3.6/dist-packages/numpy/core/_methods.py:217: RuntimeWarning: Degrees of freedom <= 0 for slice\n",
            "  keepdims=keepdims)\n",
            "/usr/local/lib/python3.6/dist-packages/numpy/core/_methods.py:209: RuntimeWarning: invalid value encountered in double_scalars\n",
            "  ret = ret.dtype.type(ret / rcount)\n"
          ],
          "name": "stderr"
        }
      ]
    },
    {
      "cell_type": "code",
      "metadata": {
        "id": "ohC5CyzVExgg",
        "colab_type": "code",
        "colab": {}
      },
      "source": [
        "# calculate Delta S (one run as a test)\n",
        "delta_perf_2 = [(np.mean(seen_perf_2,0))[i+1] - (np.mean(seen_perf_2,0))[i] for i in range(len((np.mean(seen_perf_2,0)))-1)]\n",
        "seen_genres_all_array_perf_2 = np.array(seen_perf_2)\n",
        "delta_all_perf_2 = [(seen_genres_all_array_perf_2)[:,i+1] - ((seen_genres_all_array_perf_2))[:,i] for i in range(len(seen_genres_all_array_perf_2[:,0])-1)]\n",
        "delta_all_perf_2 = []\n",
        "for j in range(len(seen_genres_all_array_perf_2)):\n",
        "    delta_all_perf_2 += [[(seen_genres_all_array_perf_2)[j,i+1] - ((seen_genres_all_array_perf_2))[j,i] for i in range(len(seen_genres_all_array_perf_2[0])-1)]]\n",
        "\n",
        "delta_CI_perf_2 = get_CI(delta_all_perf_2) ## get CI from all runs\n"
      ],
      "execution_count": null,
      "outputs": []
    },
    {
      "cell_type": "code",
      "metadata": {
        "id": "JRLwqBJdES3k",
        "colab_type": "code",
        "colab": {}
      },
      "source": [
        "iterations = range(24)\n",
        "\n",
        "\n",
        "plt.plot(iterations , delta_perf_MF[:24],'-',label = '|Delta Sn| Using Ranking Strategy')\n",
        "plt.plot(iterations , delta_perf,'-o',label = '|Delta Sn| Using 0.1 - greedy MAB Strategy')\n",
        "\n",
        "plt.plot(iterations , delta_perf_2,'-x',label = '|Delta Sn| Using 0.2 - greedy MAB Strategy',color = 'black')\n",
        "plt.plot(iterations , delta_perf_3,'-*',label = '|Delta Sn| Using 0.3 - greedy MAB Strategy', color = 'red')\n",
        "plt.plot(iterations , y2,'-+',label = 'Theoretical Bound for delta = 0.98',color ='green')\n",
        "\n",
        "#plt.fill_between(iterations, delta_CI_perf[:,0], delta_CI_perf[:,1], color = '#539caf', alpha = 0.4, label = '95% CI')\n",
        "\n",
        "plt.xlabel('iterations')\n",
        "plt.ylabel('Delta |Sn|')\n",
        "plt.legend(loc='upper right')\n",
        "plt.title('Evolution of the average user discovery through iterations \\n with perfect feedback assumption')\n",
        "\n",
        "\n",
        "plt.show()\n"
      ],
      "execution_count": null,
      "outputs": []
    },
    {
      "cell_type": "code",
      "metadata": {
        "id": "bHX5IjZuEZPL",
        "colab_type": "code",
        "colab": {}
      },
      "source": [
        "iterations = range(25)\n",
        "\n",
        "plt.plot(iterations , (np.mean(seen_perf_2,0)),'-v',label = '|S(t)|')\n",
        "plt.fill_between(iterations,min_seen, (np.mean(seen_perf_2,0)), hatch = '/' ,alpha = 0.3,label = 'Seen_groups S(t)')\n",
        "\n",
        "plt.fill_between(iterations,(np.mean(seen_perf_2,0)), max_seen, alpha = 0.3,label = 'Blind Spot B(t)')\n",
        "\n",
        "plt.xlabel('iterations')\n",
        "plt.ylabel('Number of groups')\n",
        "plt.legend(loc='bottom right')\n",
        "plt.title('Evolution of the number of seen groups and blind spot \\n through iterations using a 0.1-greedy MAB Recommendation strategy')\n",
        "\n",
        "\n",
        "plt.show()\n"
      ],
      "execution_count": null,
      "outputs": []
    },
    {
      "cell_type": "code",
      "metadata": {
        "id": "uPlhCp5YFYvU",
        "colab_type": "code",
        "colab": {}
      },
      "source": [
        "iterations = range(25)\n",
        "\n",
        "plt.plot(iterations , (np.mean(seen_perf_2,0)),'-v',label = '|S(t)|')\n",
        "plt.fill_between(iterations,min_seen, (np.mean(seen_perf_3,0)), hatch = '/' ,alpha = 0.3,label = 'Seen_groups S(t)')\n",
        "\n",
        "plt.fill_between(iterations,(np.mean(seen_perf_2,0)), max_seen, alpha = 0.3,label = 'Blind Spot B(t)')\n",
        "\n",
        "plt.xlabel('iterations')\n",
        "plt.ylabel('Number of groups')\n",
        "plt.legend(loc='bottom right')\n",
        "plt.title('Evolution of the number of seen groups and blind spot \\n through iterations using a 0.1-greedy MAB Recommendation strategy')\n",
        "\n",
        "\n",
        "plt.show()\n"
      ],
      "execution_count": null,
      "outputs": []
    },
    {
      "cell_type": "code",
      "metadata": {
        "id": "LbfkgSwbF7sc",
        "colab_type": "code",
        "colab": {}
      },
      "source": [
        ""
      ],
      "execution_count": null,
      "outputs": []
    }
  ]
}